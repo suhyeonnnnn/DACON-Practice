{
 "cells": [
  {
   "cell_type": "code",
   "execution_count": 1,
   "id": "21093aa9",
   "metadata": {},
   "outputs": [],
   "source": [
    "import pandas as pd\n",
    "import sqlite3"
   ]
  },
  {
   "cell_type": "code",
   "execution_count": 2,
   "id": "d5f76885",
   "metadata": {},
   "outputs": [
    {
     "ename": "OperationalError",
     "evalue": "unable to open database file",
     "output_type": "error",
     "traceback": [
      "\u001b[0;31m---------------------------------------------------------------------------\u001b[0m",
      "\u001b[0;31mOperationalError\u001b[0m                          Traceback (most recent call last)",
      "\u001b[0;32m/var/folders/67/k4ct0mwx49j46bz5qfxg28_m0000gn/T/ipykernel_58262/3297299244.py\u001b[0m in \u001b[0;36m<module>\u001b[0;34m\u001b[0m\n\u001b[0;32m----> 1\u001b[0;31m \u001b[0mcon\u001b[0m \u001b[0;34m=\u001b[0m \u001b[0msqlite3\u001b[0m\u001b[0;34m.\u001b[0m\u001b[0mconnect\u001b[0m\u001b[0;34m(\u001b[0m\u001b[0;34m'data/week10.db'\u001b[0m\u001b[0;34m)\u001b[0m\u001b[0;34m\u001b[0m\u001b[0;34m\u001b[0m\u001b[0m\n\u001b[0m",
      "\u001b[0;31mOperationalError\u001b[0m: unable to open database file"
     ]
    }
   ],
   "source": [
    "con = sqlite3.connect('data/week10.db')"
   ]
  },
  {
   "cell_type": "code",
   "execution_count": null,
   "id": "51300c89",
   "metadata": {},
   "outputs": [],
   "source": [
    "# 1. 고객 정보 (고객번호, 연령대, 성별)\n",
    "pd.read_sql_query(\"\"\"\n",
    "    select *\n",
    "    from CS_INFO\n",
    "    LIMIT 5\n",
    "\"\"\", con)"
   ]
  },
  {
   "cell_type": "code",
   "execution_count": 3,
   "id": "ae7f5ac2",
   "metadata": {},
   "outputs": [
    {
     "ename": "TypeError",
     "evalue": "read_sql_query() missing 1 required positional argument: 'con'",
     "output_type": "error",
     "traceback": [
      "\u001b[0;31m---------------------------------------------------------------------------\u001b[0m",
      "\u001b[0;31mTypeError\u001b[0m                                 Traceback (most recent call last)",
      "\u001b[0;32m/var/folders/67/k4ct0mwx49j46bz5qfxg28_m0000gn/T/ipykernel_58262/998515993.py\u001b[0m in \u001b[0;36m<module>\u001b[0;34m\u001b[0m\n\u001b[1;32m      1\u001b[0m \u001b[0;31m# 해외주식 거래내역 : 지난 1년간 고객들의 해외 주식 거래 내역\u001b[0m\u001b[0;34m\u001b[0m\u001b[0;34m\u001b[0m\u001b[0m\n\u001b[0;32m----> 2\u001b[0;31m pd.read_sql_query(\"\"\"\n\u001b[0m\u001b[1;32m      3\u001b[0m     \u001b[0mselect\u001b[0m \u001b[0;34m*\u001b[0m\u001b[0;34m\u001b[0m\u001b[0;34m\u001b[0m\u001b[0m\n\u001b[1;32m      4\u001b[0m \"\"\")\n",
      "\u001b[0;31mTypeError\u001b[0m: read_sql_query() missing 1 required positional argument: 'con'"
     ]
    }
   ],
   "source": [
    "# 해외주식 거래내역 : 지난 1년간 고객들의 해외 주식 거래 내역\n",
    "pd.read_sql_query(\"\"\"\n",
    "    select *\n",
    "    from TRADE\n",
    "    limit 5\n",
    "\"\"\", con)"
   ]
  },
  {
   "cell_type": "code",
   "execution_count": null,
   "id": "56934d7b",
   "metadata": {},
   "outputs": [],
   "source": [
    "# s&p500 지수 추종 etf(spy)의 가격변동 (벤치마크로 사용할 지수)\n",
    "pd.read_sql_query(\"\"\"\n",
    "    select *\n",
    "    from SP_PRICE\n",
    "    limit 5\n",
    "\"\"\", con)"
   ]
  },
  {
   "cell_type": "code",
   "execution_count": null,
   "id": "4e2a189d",
   "metadata": {},
   "outputs": [],
   "source": [
    "# 해외 주식 투자 고객의 투자 수익률 (해외 주식 투자 고객의 1년 투자 수익률입니다. )\n",
    "pd.read_sql_query(\"\"\"\n",
    "    select *\n",
    "    from YEAR_RU\n",
    "    limit 5\n",
    "\"\"\", con)"
   ]
  },
  {
   "cell_type": "code",
   "execution_count": 4,
   "id": "d55926c7",
   "metadata": {},
   "outputs": [
    {
     "ename": "TypeError",
     "evalue": "read_sql_query() missing 1 required positional argument: 'con'",
     "output_type": "error",
     "traceback": [
      "\u001b[0;31m---------------------------------------------------------------------------\u001b[0m",
      "\u001b[0;31mTypeError\u001b[0m                                 Traceback (most recent call last)",
      "\u001b[0;32m/var/folders/67/k4ct0mwx49j46bz5qfxg28_m0000gn/T/ipykernel_58262/3746576541.py\u001b[0m in \u001b[0;36m<module>\u001b[0;34m\u001b[0m\n\u001b[1;32m      4\u001b[0m \u001b[0;34m\u001b[0m\u001b[0m\n\u001b[1;32m      5\u001b[0m \u001b[0;31m# 어떤 달에 해외주식 거래가 가장 활발했을까?\u001b[0m\u001b[0;34m\u001b[0m\u001b[0;34m\u001b[0m\u001b[0m\n\u001b[0;32m----> 6\u001b[0;31m pd.read_sql_query(\"\"\"\n\u001b[0m\u001b[1;32m      7\u001b[0m     \u001b[0mSELECT\u001b[0m \u001b[0mSUBSTR\u001b[0m\u001b[0;34m(\u001b[0m\u001b[0mTR_DT\u001b[0m\u001b[0;34m,\u001b[0m \u001b[0;36m1\u001b[0m\u001b[0;34m,\u001b[0m \u001b[0;36m6\u001b[0m\u001b[0;34m)\u001b[0m \u001b[0mAS\u001b[0m \u001b[0m월\u001b[0m\u001b[0;34m\u001b[0m\u001b[0;34m\u001b[0m\u001b[0m\n\u001b[1;32m      8\u001b[0m         \u001b[0;34m,\u001b[0m \u001b[0mSUM\u001b[0m\u001b[0;34m(\u001b[0m\u001b[0m매수입고금액\u001b[0m\u001b[0;34m)\u001b[0m \u001b[0mAS\u001b[0m \u001b[0m총매수입고금액\u001b[0m\u001b[0;34m\u001b[0m\u001b[0;34m\u001b[0m\u001b[0m\n",
      "\u001b[0;31mTypeError\u001b[0m: read_sql_query() missing 1 required positional argument: 'con'"
     ]
    }
   ],
   "source": [
    "# 종목별 데이터 분석\n",
    "# 월별 거래량 top10, 순매수 top10, 순매도 top 10\n",
    "# 거래내역을 바탕으로 12개월 간 월별 거래량 상위 10개 종목을 알아보자\n",
    "\n",
    "# 어떤 달에 해외주식 거래가 가장 활발했을까?\n",
    "pd.read_sql_query(\"\"\"\n",
    "    SELECT SUBSTR(TR_DT, 1, 6) AS 월\n",
    "        , SUM(매수입고금액) AS 총매수입고금액\n",
    "        , SUM(매도출고금액) AS 총매도출고금액\n",
    "        , SUM(매수입고금액)+SUM(매도출고금액) AS 총거래금액\n",
    "    FROM TRADE\n",
    "    GROUP BY 월\n",
    "    ORDER BY  총거래금액 DESC -- 내림차순 정렬\n",
    "    LIMIT 10 -- 상위 10개 종목\n",
    "\"\"\", con)"
   ]
  },
  {
   "cell_type": "code",
   "execution_count": null,
   "id": "6150063e",
   "metadata": {},
   "outputs": [],
   "source": [
    "# 1년중 거래가 활발했던 2021년 1월에는 어떤 종목을 많이 거래했을까요?\n",
    "pd.read_sql_query(\"\"\"\n",
    "    SELECT ITM_NO AS 종목명\n",
    "        , SUM(매수입고금액) AS 총매수입고금액\n",
    "        , SUM(매도입고금액) AS 총매도입고금액\n",
    "        , SUM(매수입고금액)+SUM(매도입고금액) AS 총거래금액\n",
    "    FROM TRADE \n",
    "    WHERE SUBSTR(TR_DT, 1, 6) = '202101'\n",
    "    GROUP BY 종목명\n",
    "    ORDER BY 총거래금액 DESC -- 내림차순 정렬\n",
    "    LIMIT 10 -- 상위 10개 종목\n",
    "\"\"\", con)"
   ]
  },
  {
   "cell_type": "code",
   "execution_count": 5,
   "id": "69c94c18",
   "metadata": {},
   "outputs": [
    {
     "ename": "TypeError",
     "evalue": "read_sql_query() missing 1 required positional argument: 'con'",
     "output_type": "error",
     "traceback": [
      "\u001b[0;31m---------------------------------------------------------------------------\u001b[0m",
      "\u001b[0;31mTypeError\u001b[0m                                 Traceback (most recent call last)",
      "\u001b[0;32m/var/folders/67/k4ct0mwx49j46bz5qfxg28_m0000gn/T/ipykernel_58262/3057554141.py\u001b[0m in \u001b[0;36m<module>\u001b[0;34m\u001b[0m\n\u001b[1;32m      3\u001b[0m \u001b[0myear_top10\u001b[0m \u001b[0;34m=\u001b[0m \u001b[0mpd\u001b[0m\u001b[0;34m.\u001b[0m\u001b[0mDataFrame\u001b[0m\u001b[0;34m(\u001b[0m\u001b[0;34m[\u001b[0m\u001b[0;34m]\u001b[0m\u001b[0;34m)\u001b[0m \u001b[0;31m# 빈 데이터 프레임을 하나 만들고\u001b[0m\u001b[0;34m\u001b[0m\u001b[0;34m\u001b[0m\u001b[0m\n\u001b[1;32m      4\u001b[0m \u001b[0;32mfor\u001b[0m \u001b[0mm\u001b[0m \u001b[0;32min\u001b[0m \u001b[0mmonths\u001b[0m\u001b[0;34m:\u001b[0m\u001b[0;34m\u001b[0m\u001b[0;34m\u001b[0m\u001b[0m\n\u001b[0;32m----> 5\u001b[0;31m     \u001b[0mdf\u001b[0m \u001b[0;34m=\u001b[0m \u001b[0mpd\u001b[0m\u001b[0;34m.\u001b[0m\u001b[0mread_sql_query\u001b[0m\u001b[0;34m(\u001b[0m\u001b[0;34m\"\"\"\"\"\"\u001b[0m\u001b[0;34m)\u001b[0m\u001b[0;34m\u001b[0m\u001b[0;34m\u001b[0m\u001b[0m\n\u001b[0m",
      "\u001b[0;31mTypeError\u001b[0m: read_sql_query() missing 1 required positional argument: 'con'"
     ]
    }
   ],
   "source": [
    "# for 문을 응용하면 월별 거래종목 상위 Top10을 한 표에서 볼 수 있다. \n",
    "months = ['202008','202009','202010','202011','202012','202101','202102','202103','202104','202105','202106','202107']\n",
    "year_top10 = pd.DataFrame([]) # 빈 데이터 프레임을 하나 만들고\n",
    "for m in months:\n",
    "    df = pd.read_sql_query(\"\"\"\n",
    "        SELECT ITM_NO AS 종목명\n",
    "        FROM TRADE\n",
    "        WHERE SUBSTR(TR_DT, 1, 6) = '{}'\n",
    "        GROUP BY 종목명\n",
    "        ORDERY BY SUM(매수입고금액)+SUM(매도출고금액) DESC -- 내림차순정렬\n",
    "        LIMIT 10 -- 상위 10개 종목\n",
    "    \"\"\".format(m), con)\n",
    "    df.rename(columns = {'종목명': m}, inplace = True) \n",
    "    year_top10 = pd.concat([year_top10, df], axis =1)"
   ]
  },
  {
   "cell_type": "code",
   "execution_count": null,
   "id": "621fb8e0",
   "metadata": {},
   "outputs": [],
   "source": [
    "year_top10"
   ]
  },
  {
   "cell_type": "code",
   "execution_count": null,
   "id": "f751ec20",
   "metadata": {},
   "outputs": [],
   "source": [
    "# 순매수 top10 \n",
    "net_pur = pd.DataFrame([])\n",
    "for m in months:\n",
    "    df = pd.read_sql_query(\"\"\"\n",
    "        SELECT ITM_NO AS 종목명\n",
    "        FROM TRADE\n",
    "        WHERE SUBSTR(TR_DT, 1, 6) = '{}'\n",
    "        GROUP BY 종목명\n",
    "        ORDER BY SUM(매수출고금액) - SUM(매도출고금액) DESC -- 순매도\n",
    "        LIMIT 10 -- 상위10개 종목\n",
    "    \"\"\".format(m), con)\n",
    "    df.rename(columns = {'종목명': m}, inplace = True)\n",
    "    net_pur = pd.concat([net_pur, df], axis=1)"
   ]
  },
  {
   "cell_type": "code",
   "execution_count": null,
   "id": "39fbafb3",
   "metadata": {},
   "outputs": [],
   "source": [
    "net_pur"
   ]
  },
  {
   "cell_type": "code",
   "execution_count": null,
   "id": "e4501abf",
   "metadata": {},
   "outputs": [],
   "source": [
    "net_sel = pd.DataFrame([])\n",
    "for m in months:\n",
    "    df = pd.read_sql_query(\"\"\"\n",
    "    SELECT ITM_NO AS\n",
    "    FROM TRADE\n",
    "    WHERE SUBSTR(TR_DT, 1, 6) = '{}'\n",
    "    GROUP BY 종목명\n",
    "    ORDER BY SUM(매도출고금액) - SUM(매수입고금액) DESC\n",
    "    LIMIT 10 -- 상위 10개종목\n",
    "    \"\"\".format(m), con)\n",
    "    df.rename(columns = {'종목명': m}, inplace = True)\n",
    "    net_sel = pd.concat([net_sel, df], axis = 1)"
   ]
  },
  {
   "cell_type": "code",
   "execution_count": null,
   "id": "50b1ba17",
   "metadata": {},
   "outputs": [],
   "source": [
    "net_sel"
   ]
  },
  {
   "cell_type": "code",
   "execution_count": null,
   "id": "04bcb34d",
   "metadata": {},
   "outputs": [],
   "source": [
    "# 두 테이블 결합하여 분석하기 \n",
    "# 고객정보로 거래량 분석하기 \n",
    "# 성별에 관계 없이 테슬라가 1위\n",
    "pd.read_sql_query(\"\"\"\n",
    "    SELECT 성별, ITM_NO AS 종목명, SUM(매수입고금액)+SUM(매도출고금액) AS 총거래금액\n",
    "    FROM TRADE T\n",
    "    LEFT JOIN CS_INFO C\n",
    "    ON T.CS_NO = C.CS_NO\n",
    "    WHERE 성별 IS NOT NULL\n",
    "    GROUP BY 1,2\n",
    "    ORDER BY 3 DESC\n",
    "    LIMIT 10\n",
    "\"\"\", con)"
   ]
  },
  {
   "cell_type": "code",
   "execution_count": null,
   "id": "82e5a434",
   "metadata": {},
   "outputs": [],
   "source": [
    "# for 문 활용\n",
    "gender = ['M','F']\n",
    "gender_top10 = pd.DataFrame([])\n",
    "for g in genders:\n",
    "    df = pd.read_sql_query(\"\"\"\n",
    "        SELECT ITM_NO AS 종목명, SUM(매수입고금액)+SUM(매도출고금액) AS 총거래금액\n",
    "        FROM TRADE T\n",
    "        LEFT JOIN CS_INFO C\n",
    "        ON T.CS_NO = C.CS_NO\n",
    "        WHERE 성별 = '{}'\n",
    "        GROUP BY 1\n",
    "        ORDER BY 2 DESC\n",
    "        LIMIT 10 -- 상위 10개 종목\n",
    "    \"\"\".format(g), con)\n",
    "    df.rename(columns = {'종목명':'{}_종목명'.format(g), '총거래금액': '{}_총거래금액'.format(g)}, inplace = True)\n",
    "    gender_top10 = pd.concat([gender_top10, df], axis = 1)\n",
    "    \n",
    "    "
   ]
  },
  {
   "cell_type": "code",
   "execution_count": null,
   "id": "c101117b",
   "metadata": {},
   "outputs": [],
   "source": [
    "gender_top10 # 여성투자자들이 중국주식에 관심이 많았다"
   ]
  },
  {
   "cell_type": "code",
   "execution_count": null,
   "id": "2971f9e9",
   "metadata": {},
   "outputs": [],
   "source": [
    "# 연령대별로 거래량 분석해보기 \n",
    "age = ['20대','30대','40대','50대','60대']\n",
    "age_top10 = pd.DataFrame([])\n",
    "\n",
    "for a in age:\n",
    "    df = pd.read_sql_query(\"\"\"\n",
    "        SELECT ITM_NO AS 종목명\n",
    "            , SUM(매도출고금액)+SUM(매수출고금액) AS 총거래금액\n",
    "        FROM TRADE T\n",
    "        LEFT JOIN CS_NO C\n",
    "        ON T.CS_NO = C.CS_NO\n",
    "        WHERE 연령 = '{}'\n",
    "        GROUP BY 1\n",
    "        ORDERY BY 2 DESC\n",
    "        LIMIT 10\n",
    "    \"\"\".format(a), con)\n",
    "    df.rename(colums = {'종목명':'{}_종목명'.format(a),'총거래금액': '{}_총거래금액'.format(a)}, inplace = True)\n",
    "    age_top10 = pd.concat([age_top10, df], axis =1)"
   ]
  },
  {
   "cell_type": "code",
   "execution_count": null,
   "id": "fbf9f103",
   "metadata": {},
   "outputs": [],
   "source": [
    "age_top10"
   ]
  },
  {
   "cell_type": "code",
   "execution_count": null,
   "id": "954ea3a7",
   "metadata": {},
   "outputs": [],
   "source": [
    "# 투자수익률과 결합하여 분석하기\n",
    "# 고객의 1년 투자 수익률을 기준으로 거래량을 파악해보자\n",
    "# 수익률이 높은 투자 고수들은 다른 고객과 차별화된 종목을 골랐을까\n",
    "\n",
    "# 가장 먼저 수익률 구간을 나누어 주는 작업이 필요\n",
    "# 우선 두 데이블을 조인해야함\n",
    "pd.read_sql_query(\"\"\"\n",
    "    SELECT T.*, RT AS 수익률\n",
    "    FROM TRADE T\n",
    "    LEFT JOIN YEAR_RT R\n",
    "    ON T.CS_NO = R.CS_NO\n",
    "    WHERE 수익률 IS NOT NULL\n",
    "    LIMIT 10\n",
    "\"\"\", con)"
   ]
  },
  {
   "cell_type": "code",
   "execution_count": null,
   "id": "80a7ad87",
   "metadata": {},
   "outputs": [],
   "source": [
    "# sp500 etf 보다 투자 수익률이 좋으면 고수\n",
    "# spy 일별 종가 데이터\n",
    "pd.read_sql_query(\"\"\"\n",
    "    SELECT *\n",
    "    FROM SP_PRICE\n",
    "    WHERE BAS_DT IN ('20200803','20210730')\n",
    "\"\"\", con)\n",
    "\n",
    "# 1년동안의 수익률은 (438.51 - 328.79)/328.79 = 33.37%"
   ]
  },
  {
   "cell_type": "code",
   "execution_count": null,
   "id": "23a5b0b1",
   "metadata": {},
   "outputs": [],
   "source": [
    "# 투자자들의 수익률을 구간으로 나눔\n",
    "pd.read_sql_query(\"\"\"\n",
    "    SELECT T.*\n",
    "        , RT AS \n",
    "        , CASE WHEN RT > 100 THEN '초고수'\n",
    "               WHEN RT > 33.37 THEN '고수'\n",
    "               WHEN RT < 0 THEN '하수'\n",
    "        ELSE '중수' END AS 수익률_구간\n",
    "        \n",
    "    FROM TRADE T\n",
    "    LEFT JOIN YEAR_RT R\n",
    "    ON T.CS_NO = R.CS_NO\n",
    "    WHERE 수익률 IN NOT NULL\n",
    "    LIMIT 10\n",
    "\"\"\", con)"
   ]
  },
  {
   "cell_type": "code",
   "execution_count": null,
   "id": "7355678a",
   "metadata": {},
   "outputs": [],
   "source": [
    "# for 문, with 문 활용\n",
    "ranks = ['초고수','고수','중수','하수']\n",
    "rank_top10 = pd.DataFrame([])\n",
    "for r in ranks:\n",
    "    df = pd.read_sql_query(\"\"\"\n",
    "        WITH MASTER AS (\n",
    "            SELECT T.*\n",
    "                , RT AS 수익률\n",
    "                , CASE WHEN RT>100 THEN '초고수'\n",
    "                       WHEN RT >33.37 THEN '고수'\n",
    "                       WHEN RT < 0 THEN '하수'\n",
    "                ELSE '중수' END AS 수익률_구간\n",
    "            FROM TRADE T\n",
    "            LEFT JOIN YEAR_RT R\n",
    "            ON T.CS_NO = R.CS_NO\n",
    "            WHERE 수익률 IS NOT NULL\n",
    "        )  -- MASTER 라는 테이블 정의 \n",
    "        \n",
    "        SELECT ITM_NO AS 종목명 , SUM(매수입고금액)+SUM(매도입고금액) AS 총거래금액\n",
    "        FROM MASTER M\n",
    "        WHERE 수익률_구간 = '{}'\n",
    "        GROUP BY 1\n",
    "        ORDER BY 2 DESC\n",
    "        LIMIT 10\n",
    "    \"\"\".format(r), con)\n",
    "    \n",
    "    df.rename(columns = {'종목명':'{}_종목명'.format(r),'총거래금액':'{}_총거래금액'}, inplace = True)\n",
    "    rank_top10 = pd.concat([rank_top10, df], axis = 1)"
   ]
  },
  {
   "cell_type": "code",
   "execution_count": null,
   "id": "1fc73841",
   "metadata": {},
   "outputs": [],
   "source": [
    "rank_top10"
   ]
  }
 ],
 "metadata": {
  "kernelspec": {
   "display_name": "Python 3 (ipykernel)",
   "language": "python",
   "name": "python3"
  },
  "language_info": {
   "codemirror_mode": {
    "name": "ipython",
    "version": 3
   },
   "file_extension": ".py",
   "mimetype": "text/x-python",
   "name": "python",
   "nbconvert_exporter": "python",
   "pygments_lexer": "ipython3",
   "version": "3.9.7"
  }
 },
 "nbformat": 4,
 "nbformat_minor": 5
}
