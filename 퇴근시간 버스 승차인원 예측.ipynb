{
 "cells": [
  {
   "cell_type": "markdown",
   "id": "cc6a9613",
   "metadata": {},
   "source": [
    "# 탐색적 데이터 분석"
   ]
  },
  {
   "cell_type": "code",
   "execution_count": 1,
   "id": "212598b4",
   "metadata": {},
   "outputs": [],
   "source": [
    "import os\n",
    "os.chdir(r\"C:\\Users\\sh921\\Desktop\\jupyter\\DACON-Practice\")"
   ]
  },
  {
   "cell_type": "code",
   "execution_count": 2,
   "id": "8176353b",
   "metadata": {},
   "outputs": [],
   "source": [
    "import pandas as pd\n",
    "\n",
    "#데이터로드\n",
    "train = pd.read_csv('train.csv')\n",
    "test = pd.read_csv('test.csv')\n",
    "bts = pd.read_csv('bus_bts.csv')\n",
    "jeju_life = pd.read_csv('jeju_financial_life_data.csv')\n",
    "weather = pd.read_csv('weather.csv', encoding ='cp949')\n",
    "rain = pd.read_csv('rain.csv', encoding='utf-8')"
   ]
  },
  {
   "cell_type": "code",
   "execution_count": 3,
   "id": "dce37981",
   "metadata": {},
   "outputs": [
    {
     "data": {
      "text/html": [
       "<div>\n",
       "<style scoped>\n",
       "    .dataframe tbody tr th:only-of-type {\n",
       "        vertical-align: middle;\n",
       "    }\n",
       "\n",
       "    .dataframe tbody tr th {\n",
       "        vertical-align: top;\n",
       "    }\n",
       "\n",
       "    .dataframe thead th {\n",
       "        text-align: right;\n",
       "    }\n",
       "</style>\n",
       "<table border=\"1\" class=\"dataframe\">\n",
       "  <thead>\n",
       "    <tr style=\"text-align: right;\">\n",
       "      <th></th>\n",
       "      <th>id</th>\n",
       "      <th>date</th>\n",
       "      <th>bus_route_id</th>\n",
       "      <th>in_out</th>\n",
       "      <th>station_code</th>\n",
       "      <th>station_name</th>\n",
       "      <th>latitude</th>\n",
       "      <th>longitude</th>\n",
       "      <th>6~7_ride</th>\n",
       "      <th>7~8_ride</th>\n",
       "      <th>...</th>\n",
       "      <th>9~10_ride</th>\n",
       "      <th>10~11_ride</th>\n",
       "      <th>11~12_ride</th>\n",
       "      <th>6~7_takeoff</th>\n",
       "      <th>7~8_takeoff</th>\n",
       "      <th>8~9_takeoff</th>\n",
       "      <th>9~10_takeoff</th>\n",
       "      <th>10~11_takeoff</th>\n",
       "      <th>11~12_takeoff</th>\n",
       "      <th>18~20_ride</th>\n",
       "    </tr>\n",
       "  </thead>\n",
       "  <tbody>\n",
       "    <tr>\n",
       "      <th>0</th>\n",
       "      <td>0</td>\n",
       "      <td>2019-09-01</td>\n",
       "      <td>4270000</td>\n",
       "      <td>시외</td>\n",
       "      <td>344</td>\n",
       "      <td>제주썬호텔</td>\n",
       "      <td>33.48990</td>\n",
       "      <td>126.49373</td>\n",
       "      <td>0.0</td>\n",
       "      <td>1.0</td>\n",
       "      <td>...</td>\n",
       "      <td>5.0</td>\n",
       "      <td>2.0</td>\n",
       "      <td>6.0</td>\n",
       "      <td>0.0</td>\n",
       "      <td>0.0</td>\n",
       "      <td>0.0</td>\n",
       "      <td>0.0</td>\n",
       "      <td>0.0</td>\n",
       "      <td>0.0</td>\n",
       "      <td>0.0</td>\n",
       "    </tr>\n",
       "    <tr>\n",
       "      <th>1</th>\n",
       "      <td>1</td>\n",
       "      <td>2019-09-01</td>\n",
       "      <td>4270000</td>\n",
       "      <td>시외</td>\n",
       "      <td>357</td>\n",
       "      <td>한라병원</td>\n",
       "      <td>33.48944</td>\n",
       "      <td>126.48508</td>\n",
       "      <td>1.0</td>\n",
       "      <td>4.0</td>\n",
       "      <td>...</td>\n",
       "      <td>2.0</td>\n",
       "      <td>5.0</td>\n",
       "      <td>6.0</td>\n",
       "      <td>0.0</td>\n",
       "      <td>0.0</td>\n",
       "      <td>0.0</td>\n",
       "      <td>0.0</td>\n",
       "      <td>0.0</td>\n",
       "      <td>0.0</td>\n",
       "      <td>5.0</td>\n",
       "    </tr>\n",
       "    <tr>\n",
       "      <th>2</th>\n",
       "      <td>2</td>\n",
       "      <td>2019-09-01</td>\n",
       "      <td>4270000</td>\n",
       "      <td>시외</td>\n",
       "      <td>432</td>\n",
       "      <td>정존마을</td>\n",
       "      <td>33.48181</td>\n",
       "      <td>126.47352</td>\n",
       "      <td>1.0</td>\n",
       "      <td>1.0</td>\n",
       "      <td>...</td>\n",
       "      <td>2.0</td>\n",
       "      <td>0.0</td>\n",
       "      <td>0.0</td>\n",
       "      <td>0.0</td>\n",
       "      <td>0.0</td>\n",
       "      <td>0.0</td>\n",
       "      <td>0.0</td>\n",
       "      <td>0.0</td>\n",
       "      <td>0.0</td>\n",
       "      <td>2.0</td>\n",
       "    </tr>\n",
       "    <tr>\n",
       "      <th>3</th>\n",
       "      <td>3</td>\n",
       "      <td>2019-09-01</td>\n",
       "      <td>4270000</td>\n",
       "      <td>시내</td>\n",
       "      <td>1579</td>\n",
       "      <td>제주국제공항(600번)</td>\n",
       "      <td>33.50577</td>\n",
       "      <td>126.49252</td>\n",
       "      <td>0.0</td>\n",
       "      <td>17.0</td>\n",
       "      <td>...</td>\n",
       "      <td>26.0</td>\n",
       "      <td>14.0</td>\n",
       "      <td>16.0</td>\n",
       "      <td>0.0</td>\n",
       "      <td>0.0</td>\n",
       "      <td>0.0</td>\n",
       "      <td>0.0</td>\n",
       "      <td>0.0</td>\n",
       "      <td>0.0</td>\n",
       "      <td>53.0</td>\n",
       "    </tr>\n",
       "    <tr>\n",
       "      <th>4</th>\n",
       "      <td>4</td>\n",
       "      <td>2019-09-01</td>\n",
       "      <td>4270000</td>\n",
       "      <td>시내</td>\n",
       "      <td>1646</td>\n",
       "      <td>중문관광단지입구</td>\n",
       "      <td>33.25579</td>\n",
       "      <td>126.41260</td>\n",
       "      <td>0.0</td>\n",
       "      <td>0.0</td>\n",
       "      <td>...</td>\n",
       "      <td>0.0</td>\n",
       "      <td>0.0</td>\n",
       "      <td>0.0</td>\n",
       "      <td>0.0</td>\n",
       "      <td>0.0</td>\n",
       "      <td>0.0</td>\n",
       "      <td>1.0</td>\n",
       "      <td>0.0</td>\n",
       "      <td>0.0</td>\n",
       "      <td>0.0</td>\n",
       "    </tr>\n",
       "  </tbody>\n",
       "</table>\n",
       "<p>5 rows × 21 columns</p>\n",
       "</div>"
      ],
      "text/plain": [
       "   id        date  bus_route_id in_out  station_code  station_name  latitude  \\\n",
       "0   0  2019-09-01       4270000     시외           344         제주썬호텔  33.48990   \n",
       "1   1  2019-09-01       4270000     시외           357          한라병원  33.48944   \n",
       "2   2  2019-09-01       4270000     시외           432          정존마을  33.48181   \n",
       "3   3  2019-09-01       4270000     시내          1579  제주국제공항(600번)  33.50577   \n",
       "4   4  2019-09-01       4270000     시내          1646      중문관광단지입구  33.25579   \n",
       "\n",
       "   longitude  6~7_ride  7~8_ride  ...  9~10_ride  10~11_ride  11~12_ride  \\\n",
       "0  126.49373       0.0       1.0  ...        5.0         2.0         6.0   \n",
       "1  126.48508       1.0       4.0  ...        2.0         5.0         6.0   \n",
       "2  126.47352       1.0       1.0  ...        2.0         0.0         0.0   \n",
       "3  126.49252       0.0      17.0  ...       26.0        14.0        16.0   \n",
       "4  126.41260       0.0       0.0  ...        0.0         0.0         0.0   \n",
       "\n",
       "   6~7_takeoff  7~8_takeoff  8~9_takeoff  9~10_takeoff  10~11_takeoff  \\\n",
       "0          0.0          0.0          0.0           0.0            0.0   \n",
       "1          0.0          0.0          0.0           0.0            0.0   \n",
       "2          0.0          0.0          0.0           0.0            0.0   \n",
       "3          0.0          0.0          0.0           0.0            0.0   \n",
       "4          0.0          0.0          0.0           1.0            0.0   \n",
       "\n",
       "   11~12_takeoff  18~20_ride  \n",
       "0            0.0         0.0  \n",
       "1            0.0         5.0  \n",
       "2            0.0         2.0  \n",
       "3            0.0        53.0  \n",
       "4            0.0         0.0  \n",
       "\n",
       "[5 rows x 21 columns]"
      ]
     },
     "execution_count": 3,
     "metadata": {},
     "output_type": "execute_result"
    }
   ],
   "source": [
    "#학습데이터 상위 5줄 출력\n",
    "train.head()"
   ]
  },
  {
   "cell_type": "code",
   "execution_count": 4,
   "id": "1a958d3a",
   "metadata": {},
   "outputs": [
    {
     "name": "stdout",
     "output_type": "stream",
     "text": [
      "<class 'pandas.core.frame.DataFrame'>\n",
      "RangeIndex: 415423 entries, 0 to 415422\n",
      "Data columns (total 21 columns):\n",
      " #   Column         Non-Null Count   Dtype  \n",
      "---  ------         --------------   -----  \n",
      " 0   id             415423 non-null  int64  \n",
      " 1   date           415423 non-null  object \n",
      " 2   bus_route_id   415423 non-null  int64  \n",
      " 3   in_out         415423 non-null  object \n",
      " 4   station_code   415423 non-null  int64  \n",
      " 5   station_name   415423 non-null  object \n",
      " 6   latitude       415423 non-null  float64\n",
      " 7   longitude      415423 non-null  float64\n",
      " 8   6~7_ride       415423 non-null  float64\n",
      " 9   7~8_ride       415423 non-null  float64\n",
      " 10  8~9_ride       415423 non-null  float64\n",
      " 11  9~10_ride      415423 non-null  float64\n",
      " 12  10~11_ride     415423 non-null  float64\n",
      " 13  11~12_ride     415423 non-null  float64\n",
      " 14  6~7_takeoff    415423 non-null  float64\n",
      " 15  7~8_takeoff    415423 non-null  float64\n",
      " 16  8~9_takeoff    415423 non-null  float64\n",
      " 17  9~10_takeoff   415423 non-null  float64\n",
      " 18  10~11_takeoff  415423 non-null  float64\n",
      " 19  11~12_takeoff  415423 non-null  float64\n",
      " 20  18~20_ride     415423 non-null  float64\n",
      "dtypes: float64(15), int64(3), object(3)\n",
      "memory usage: 66.6+ MB\n"
     ]
    }
   ],
   "source": [
    "#학습데이터 정보 출력\n",
    "train.info()"
   ]
  },
  {
   "cell_type": "code",
   "execution_count": 5,
   "id": "4700ed7f",
   "metadata": {},
   "outputs": [
    {
     "data": {
      "text/html": [
       "<div>\n",
       "<style scoped>\n",
       "    .dataframe tbody tr th:only-of-type {\n",
       "        vertical-align: middle;\n",
       "    }\n",
       "\n",
       "    .dataframe tbody tr th {\n",
       "        vertical-align: top;\n",
       "    }\n",
       "\n",
       "    .dataframe thead th {\n",
       "        text-align: right;\n",
       "    }\n",
       "</style>\n",
       "<table border=\"1\" class=\"dataframe\">\n",
       "  <thead>\n",
       "    <tr style=\"text-align: right;\">\n",
       "      <th></th>\n",
       "      <th>user_card_id</th>\n",
       "      <th>bus_route_id</th>\n",
       "      <th>vhc_id</th>\n",
       "      <th>geton_date</th>\n",
       "      <th>geton_time</th>\n",
       "      <th>geton_station_code</th>\n",
       "      <th>geton_station_name</th>\n",
       "      <th>getoff_date</th>\n",
       "      <th>getoff_time</th>\n",
       "      <th>getoff_station_code</th>\n",
       "      <th>getoff_station_name</th>\n",
       "      <th>user_category</th>\n",
       "      <th>user_count</th>\n",
       "    </tr>\n",
       "  </thead>\n",
       "  <tbody>\n",
       "    <tr>\n",
       "      <th>0</th>\n",
       "      <td>1.010010e+15</td>\n",
       "      <td>23000000</td>\n",
       "      <td>149793674</td>\n",
       "      <td>2019-09-10</td>\n",
       "      <td>06:34:45</td>\n",
       "      <td>360</td>\n",
       "      <td>노형오거리</td>\n",
       "      <td>2019-09-10</td>\n",
       "      <td>07:10:31</td>\n",
       "      <td>592.0</td>\n",
       "      <td>화북초등학교</td>\n",
       "      <td>1</td>\n",
       "      <td>1</td>\n",
       "    </tr>\n",
       "    <tr>\n",
       "      <th>1</th>\n",
       "      <td>1.010010e+15</td>\n",
       "      <td>23000000</td>\n",
       "      <td>149793674</td>\n",
       "      <td>2019-09-10</td>\n",
       "      <td>06:34:58</td>\n",
       "      <td>360</td>\n",
       "      <td>노형오거리</td>\n",
       "      <td>2019-09-10</td>\n",
       "      <td>06:56:27</td>\n",
       "      <td>3273.0</td>\n",
       "      <td>고산동산(광양방면)</td>\n",
       "      <td>1</td>\n",
       "      <td>1</td>\n",
       "    </tr>\n",
       "    <tr>\n",
       "      <th>2</th>\n",
       "      <td>1.019160e+15</td>\n",
       "      <td>21420000</td>\n",
       "      <td>149793535</td>\n",
       "      <td>2019-09-10</td>\n",
       "      <td>07:19:07</td>\n",
       "      <td>2495</td>\n",
       "      <td>동광환승정류장4(제주방면)</td>\n",
       "      <td>2019-09-10</td>\n",
       "      <td>07:40:29</td>\n",
       "      <td>431.0</td>\n",
       "      <td>정존마을</td>\n",
       "      <td>4</td>\n",
       "      <td>1</td>\n",
       "    </tr>\n",
       "    <tr>\n",
       "      <th>3</th>\n",
       "      <td>1.019150e+15</td>\n",
       "      <td>21420000</td>\n",
       "      <td>149793512</td>\n",
       "      <td>2019-09-09</td>\n",
       "      <td>09:14:47</td>\n",
       "      <td>3282</td>\n",
       "      <td>대정환승정류장(대정읍사무소)</td>\n",
       "      <td>2019-09-09</td>\n",
       "      <td>10:02:46</td>\n",
       "      <td>431.0</td>\n",
       "      <td>정존마을</td>\n",
       "      <td>1</td>\n",
       "      <td>1</td>\n",
       "    </tr>\n",
       "    <tr>\n",
       "      <th>4</th>\n",
       "      <td>1.010010e+15</td>\n",
       "      <td>21420000</td>\n",
       "      <td>149793512</td>\n",
       "      <td>2019-09-09</td>\n",
       "      <td>09:28:53</td>\n",
       "      <td>2820</td>\n",
       "      <td>삼정지에듀</td>\n",
       "      <td>2019-09-09</td>\n",
       "      <td>10:21:37</td>\n",
       "      <td>2972.0</td>\n",
       "      <td>제주국제공항(종점)</td>\n",
       "      <td>4</td>\n",
       "      <td>1</td>\n",
       "    </tr>\n",
       "  </tbody>\n",
       "</table>\n",
       "</div>"
      ],
      "text/plain": [
       "   user_card_id  bus_route_id     vhc_id  geton_date geton_time  \\\n",
       "0  1.010010e+15      23000000  149793674  2019-09-10   06:34:45   \n",
       "1  1.010010e+15      23000000  149793674  2019-09-10   06:34:58   \n",
       "2  1.019160e+15      21420000  149793535  2019-09-10   07:19:07   \n",
       "3  1.019150e+15      21420000  149793512  2019-09-09   09:14:47   \n",
       "4  1.010010e+15      21420000  149793512  2019-09-09   09:28:53   \n",
       "\n",
       "   geton_station_code geton_station_name getoff_date getoff_time  \\\n",
       "0                 360              노형오거리  2019-09-10    07:10:31   \n",
       "1                 360              노형오거리  2019-09-10    06:56:27   \n",
       "2                2495     동광환승정류장4(제주방면)  2019-09-10    07:40:29   \n",
       "3                3282    대정환승정류장(대정읍사무소)  2019-09-09    10:02:46   \n",
       "4                2820              삼정지에듀  2019-09-09    10:21:37   \n",
       "\n",
       "   getoff_station_code getoff_station_name  user_category  user_count  \n",
       "0                592.0              화북초등학교              1           1  \n",
       "1               3273.0          고산동산(광양방면)              1           1  \n",
       "2                431.0                정존마을              4           1  \n",
       "3                431.0                정존마을              1           1  \n",
       "4               2972.0          제주국제공항(종점)              4           1  "
      ]
     },
     "execution_count": 5,
     "metadata": {},
     "output_type": "execute_result"
    }
   ],
   "source": [
    "bts.head()"
   ]
  },
  {
   "cell_type": "code",
   "execution_count": 6,
   "id": "612975b0",
   "metadata": {},
   "outputs": [
    {
     "name": "stderr",
     "output_type": "stream",
     "text": [
      "<ipython-input-6-bc1115c9611d>:1: FutureWarning: null_counts is deprecated. Use show_counts instead\n",
      "  bts.info(null_counts=True)\n"
     ]
    },
    {
     "name": "stdout",
     "output_type": "stream",
     "text": [
      "<class 'pandas.core.frame.DataFrame'>\n",
      "RangeIndex: 2409414 entries, 0 to 2409413\n",
      "Data columns (total 13 columns):\n",
      " #   Column               Non-Null Count    Dtype  \n",
      "---  ------               --------------    -----  \n",
      " 0   user_card_id         2409414 non-null  float64\n",
      " 1   bus_route_id         2409414 non-null  int64  \n",
      " 2   vhc_id               2409414 non-null  int64  \n",
      " 3   geton_date           2409414 non-null  object \n",
      " 4   geton_time           2409414 non-null  object \n",
      " 5   geton_station_code   2409414 non-null  int64  \n",
      " 6   geton_station_name   2409365 non-null  object \n",
      " 7   getoff_date          1513678 non-null  object \n",
      " 8   getoff_time          1513678 non-null  object \n",
      " 9   getoff_station_code  1513678 non-null  float64\n",
      " 10  getoff_station_name  1513639 non-null  object \n",
      " 11  user_category        2409414 non-null  int64  \n",
      " 12  user_count           2409414 non-null  int64  \n",
      "dtypes: float64(2), int64(5), object(6)\n",
      "memory usage: 239.0+ MB\n"
     ]
    }
   ],
   "source": [
    "bts.info(null_counts=True)"
   ]
  },
  {
   "cell_type": "code",
   "execution_count": 7,
   "id": "c4682bae",
   "metadata": {},
   "outputs": [
    {
     "data": {
      "text/html": [
       "<div>\n",
       "<style scoped>\n",
       "    .dataframe tbody tr th:only-of-type {\n",
       "        vertical-align: middle;\n",
       "    }\n",
       "\n",
       "    .dataframe tbody tr th {\n",
       "        vertical-align: top;\n",
       "    }\n",
       "\n",
       "    .dataframe thead th {\n",
       "        text-align: right;\n",
       "    }\n",
       "</style>\n",
       "<table border=\"1\" class=\"dataframe\">\n",
       "  <thead>\n",
       "    <tr style=\"text-align: right;\">\n",
       "      <th></th>\n",
       "      <th>zip_cd</th>\n",
       "      <th>year_month</th>\n",
       "      <th>x_axis</th>\n",
       "      <th>y_axis</th>\n",
       "      <th>sex</th>\n",
       "      <th>age</th>\n",
       "      <th>job_majorc</th>\n",
       "      <th>job_smallc</th>\n",
       "      <th>job_public</th>\n",
       "      <th>job_profession</th>\n",
       "      <th>...</th>\n",
       "      <th>avg_debt</th>\n",
       "      <th>avg_debt_credit</th>\n",
       "      <th>avg_debt_noneb</th>\n",
       "      <th>avg_debt_mortgage</th>\n",
       "      <th>avg_debt_deposit</th>\n",
       "      <th>avg_debt_collateral</th>\n",
       "      <th>avg_credit_rat</th>\n",
       "      <th>medium_resid_rat</th>\n",
       "      <th>large_resid_rat</th>\n",
       "      <th>vehicle_own_rat</th>\n",
       "    </tr>\n",
       "  </thead>\n",
       "  <tbody>\n",
       "    <tr>\n",
       "      <th>0</th>\n",
       "      <td>63299</td>\n",
       "      <td>201902</td>\n",
       "      <td>126.565889</td>\n",
       "      <td>33.513210</td>\n",
       "      <td>1</td>\n",
       "      <td>54</td>\n",
       "      <td>0.0</td>\n",
       "      <td>0.166667</td>\n",
       "      <td>0.000000</td>\n",
       "      <td>0.000000</td>\n",
       "      <td>...</td>\n",
       "      <td>24285196</td>\n",
       "      <td>11419148</td>\n",
       "      <td>8863595</td>\n",
       "      <td>55550000</td>\n",
       "      <td>0</td>\n",
       "      <td>55550000</td>\n",
       "      <td>5</td>\n",
       "      <td>-999999.0</td>\n",
       "      <td>-999999.0</td>\n",
       "      <td>0.000000</td>\n",
       "    </tr>\n",
       "    <tr>\n",
       "      <th>1</th>\n",
       "      <td>63560</td>\n",
       "      <td>201902</td>\n",
       "      <td>126.497121</td>\n",
       "      <td>33.247225</td>\n",
       "      <td>1</td>\n",
       "      <td>59</td>\n",
       "      <td>0.0</td>\n",
       "      <td>0.125000</td>\n",
       "      <td>0.000000</td>\n",
       "      <td>0.000000</td>\n",
       "      <td>...</td>\n",
       "      <td>108571077</td>\n",
       "      <td>25896955</td>\n",
       "      <td>13317443</td>\n",
       "      <td>0</td>\n",
       "      <td>200000000</td>\n",
       "      <td>74421721</td>\n",
       "      <td>4</td>\n",
       "      <td>-999999.0</td>\n",
       "      <td>-999999.0</td>\n",
       "      <td>0.000000</td>\n",
       "    </tr>\n",
       "    <tr>\n",
       "      <th>2</th>\n",
       "      <td>63560</td>\n",
       "      <td>201902</td>\n",
       "      <td>126.497121</td>\n",
       "      <td>33.247225</td>\n",
       "      <td>2</td>\n",
       "      <td>49</td>\n",
       "      <td>0.0</td>\n",
       "      <td>0.250000</td>\n",
       "      <td>0.000000</td>\n",
       "      <td>0.000000</td>\n",
       "      <td>...</td>\n",
       "      <td>26424335</td>\n",
       "      <td>12015311</td>\n",
       "      <td>12015311</td>\n",
       "      <td>40833359</td>\n",
       "      <td>0</td>\n",
       "      <td>40833359</td>\n",
       "      <td>2</td>\n",
       "      <td>-999999.0</td>\n",
       "      <td>-999999.0</td>\n",
       "      <td>0.000000</td>\n",
       "    </tr>\n",
       "    <tr>\n",
       "      <th>3</th>\n",
       "      <td>63560</td>\n",
       "      <td>201902</td>\n",
       "      <td>126.497121</td>\n",
       "      <td>33.247225</td>\n",
       "      <td>1</td>\n",
       "      <td>54</td>\n",
       "      <td>0.0</td>\n",
       "      <td>0.181818</td>\n",
       "      <td>0.090909</td>\n",
       "      <td>0.090909</td>\n",
       "      <td>...</td>\n",
       "      <td>647716901</td>\n",
       "      <td>39952556</td>\n",
       "      <td>21558153</td>\n",
       "      <td>36697792</td>\n",
       "      <td>0</td>\n",
       "      <td>706300496</td>\n",
       "      <td>4</td>\n",
       "      <td>-999999.0</td>\n",
       "      <td>-999999.0</td>\n",
       "      <td>0.166667</td>\n",
       "    </tr>\n",
       "    <tr>\n",
       "      <th>4</th>\n",
       "      <td>63560</td>\n",
       "      <td>201902</td>\n",
       "      <td>126.497121</td>\n",
       "      <td>33.247225</td>\n",
       "      <td>1</td>\n",
       "      <td>49</td>\n",
       "      <td>0.0</td>\n",
       "      <td>0.250000</td>\n",
       "      <td>0.000000</td>\n",
       "      <td>0.000000</td>\n",
       "      <td>...</td>\n",
       "      <td>248232725</td>\n",
       "      <td>35712501</td>\n",
       "      <td>5568751</td>\n",
       "      <td>0</td>\n",
       "      <td>0</td>\n",
       "      <td>626810674</td>\n",
       "      <td>5</td>\n",
       "      <td>-999999.0</td>\n",
       "      <td>-999999.0</td>\n",
       "      <td>0.000000</td>\n",
       "    </tr>\n",
       "  </tbody>\n",
       "</table>\n",
       "<p>5 rows × 27 columns</p>\n",
       "</div>"
      ],
      "text/plain": [
       "   zip_cd  year_month      x_axis     y_axis  sex  age  job_majorc  \\\n",
       "0   63299      201902  126.565889  33.513210    1   54         0.0   \n",
       "1   63560      201902  126.497121  33.247225    1   59         0.0   \n",
       "2   63560      201902  126.497121  33.247225    2   49         0.0   \n",
       "3   63560      201902  126.497121  33.247225    1   54         0.0   \n",
       "4   63560      201902  126.497121  33.247225    1   49         0.0   \n",
       "\n",
       "   job_smallc  job_public  job_profession  ...   avg_debt  avg_debt_credit  \\\n",
       "0    0.166667    0.000000        0.000000  ...   24285196         11419148   \n",
       "1    0.125000    0.000000        0.000000  ...  108571077         25896955   \n",
       "2    0.250000    0.000000        0.000000  ...   26424335         12015311   \n",
       "3    0.181818    0.090909        0.090909  ...  647716901         39952556   \n",
       "4    0.250000    0.000000        0.000000  ...  248232725         35712501   \n",
       "\n",
       "   avg_debt_noneb  avg_debt_mortgage  avg_debt_deposit  avg_debt_collateral  \\\n",
       "0         8863595           55550000                 0             55550000   \n",
       "1        13317443                  0         200000000             74421721   \n",
       "2        12015311           40833359                 0             40833359   \n",
       "3        21558153           36697792                 0            706300496   \n",
       "4         5568751                  0                 0            626810674   \n",
       "\n",
       "   avg_credit_rat  medium_resid_rat  large_resid_rat  vehicle_own_rat  \n",
       "0               5         -999999.0        -999999.0         0.000000  \n",
       "1               4         -999999.0        -999999.0         0.000000  \n",
       "2               2         -999999.0        -999999.0         0.000000  \n",
       "3               4         -999999.0        -999999.0         0.166667  \n",
       "4               5         -999999.0        -999999.0         0.000000  \n",
       "\n",
       "[5 rows x 27 columns]"
      ]
     },
     "execution_count": 7,
     "metadata": {},
     "output_type": "execute_result"
    }
   ],
   "source": [
    "jeju_life.head()"
   ]
  },
  {
   "cell_type": "code",
   "execution_count": 8,
   "id": "b76fa995",
   "metadata": {},
   "outputs": [
    {
     "name": "stdout",
     "output_type": "stream",
     "text": [
      "<class 'pandas.core.frame.DataFrame'>\n",
      "RangeIndex: 10422 entries, 0 to 10421\n",
      "Data columns (total 27 columns):\n",
      " #   Column               Non-Null Count  Dtype  \n",
      "---  ------               --------------  -----  \n",
      " 0   zip_cd               10422 non-null  int64  \n",
      " 1   year_month           10422 non-null  int64  \n",
      " 2   x_axis               10422 non-null  float64\n",
      " 3   y_axis               10422 non-null  float64\n",
      " 4   sex                  10422 non-null  int64  \n",
      " 5   age                  10422 non-null  int64  \n",
      " 6   job_majorc           10422 non-null  float64\n",
      " 7   job_smallc           10422 non-null  float64\n",
      " 8   job_public           10422 non-null  float64\n",
      " 9   job_profession       10422 non-null  float64\n",
      " 10  job_self             10422 non-null  float64\n",
      " 11  job_none             10422 non-null  float64\n",
      " 12  job_other            10422 non-null  float64\n",
      " 13  avg_income           10422 non-null  int64  \n",
      " 14  med_income           10422 non-null  int64  \n",
      " 15  avg_spend            10422 non-null  int64  \n",
      " 16  avg_foreign_spend    10422 non-null  int64  \n",
      " 17  avg_debt             10422 non-null  int64  \n",
      " 18  avg_debt_credit      10422 non-null  int64  \n",
      " 19  avg_debt_noneb       10422 non-null  int64  \n",
      " 20  avg_debt_mortgage    10422 non-null  int64  \n",
      " 21  avg_debt_deposit     10422 non-null  int64  \n",
      " 22  avg_debt_collateral  10422 non-null  int64  \n",
      " 23  avg_credit_rat       10422 non-null  int64  \n",
      " 24  medium_resid_rat     10422 non-null  float64\n",
      " 25  large_resid_rat      10422 non-null  float64\n",
      " 26  vehicle_own_rat      10422 non-null  float64\n",
      "dtypes: float64(12), int64(15)\n",
      "memory usage: 2.1 MB\n"
     ]
    }
   ],
   "source": [
    "jeju_life.info()"
   ]
  },
  {
   "cell_type": "code",
   "execution_count": 9,
   "id": "38c93c3a",
   "metadata": {},
   "outputs": [
    {
     "data": {
      "text/html": [
       "<div>\n",
       "<style scoped>\n",
       "    .dataframe tbody tr th:only-of-type {\n",
       "        vertical-align: middle;\n",
       "    }\n",
       "\n",
       "    .dataframe tbody tr th {\n",
       "        vertical-align: top;\n",
       "    }\n",
       "\n",
       "    .dataframe thead th {\n",
       "        text-align: right;\n",
       "    }\n",
       "</style>\n",
       "<table border=\"1\" class=\"dataframe\">\n",
       "  <thead>\n",
       "    <tr style=\"text-align: right;\">\n",
       "      <th></th>\n",
       "      <th>날짜</th>\n",
       "      <th>현재일기</th>\n",
       "      <th>현재기온</th>\n",
       "      <th>체감온도</th>\n",
       "      <th>일강수</th>\n",
       "    </tr>\n",
       "  </thead>\n",
       "  <tbody>\n",
       "    <tr>\n",
       "      <th>0</th>\n",
       "      <td>2019-09-01</td>\n",
       "      <td>흐림</td>\n",
       "      <td>26.2</td>\n",
       "      <td>75.0</td>\n",
       "      <td>0</td>\n",
       "    </tr>\n",
       "    <tr>\n",
       "      <th>1</th>\n",
       "      <td>2019-09-02</td>\n",
       "      <td>비 끝남</td>\n",
       "      <td>22.5</td>\n",
       "      <td>72.0</td>\n",
       "      <td>25.7</td>\n",
       "    </tr>\n",
       "    <tr>\n",
       "      <th>2</th>\n",
       "      <td>2019-09-03</td>\n",
       "      <td>흐림</td>\n",
       "      <td>25.4</td>\n",
       "      <td>77.0</td>\n",
       "      <td>12.1</td>\n",
       "    </tr>\n",
       "    <tr>\n",
       "      <th>3</th>\n",
       "      <td>2019-09-04</td>\n",
       "      <td>약한비단속</td>\n",
       "      <td>24.2</td>\n",
       "      <td>75.0</td>\n",
       "      <td>34.3</td>\n",
       "    </tr>\n",
       "    <tr>\n",
       "      <th>4</th>\n",
       "      <td>2019-09-05</td>\n",
       "      <td>구름많음</td>\n",
       "      <td>27.6</td>\n",
       "      <td>79.0</td>\n",
       "      <td>0.1</td>\n",
       "    </tr>\n",
       "  </tbody>\n",
       "</table>\n",
       "</div>"
      ],
      "text/plain": [
       "           날짜   현재일기  현재기온  체감온도   일강수\n",
       "0  2019-09-01     흐림  26.2  75.0     0\n",
       "1  2019-09-02   비 끝남  22.5  72.0  25.7\n",
       "2  2019-09-03     흐림  25.4  77.0  12.1\n",
       "3  2019-09-04  약한비단속  24.2  75.0  34.3\n",
       "4  2019-09-05   구름많음  27.6  79.0   0.1"
      ]
     },
     "execution_count": 9,
     "metadata": {},
     "output_type": "execute_result"
    }
   ],
   "source": [
    "weather.head()"
   ]
  },
  {
   "cell_type": "code",
   "execution_count": 10,
   "id": "122ae9c9",
   "metadata": {},
   "outputs": [
    {
     "name": "stdout",
     "output_type": "stream",
     "text": [
      "<class 'pandas.core.frame.DataFrame'>\n",
      "RangeIndex: 46 entries, 0 to 45\n",
      "Data columns (total 5 columns):\n",
      " #   Column  Non-Null Count  Dtype  \n",
      "---  ------  --------------  -----  \n",
      " 0   날짜      46 non-null     object \n",
      " 1   현재일기    46 non-null     object \n",
      " 2   현재기온    46 non-null     float64\n",
      " 3   체감온도    46 non-null     float64\n",
      " 4   일강수     46 non-null     object \n",
      "dtypes: float64(2), object(3)\n",
      "memory usage: 1.9+ KB\n"
     ]
    }
   ],
   "source": [
    "weather.info()"
   ]
  },
  {
   "cell_type": "code",
   "execution_count": 11,
   "id": "139c40b5",
   "metadata": {},
   "outputs": [
    {
     "data": {
      "text/html": [
       "<div>\n",
       "<style scoped>\n",
       "    .dataframe tbody tr th:only-of-type {\n",
       "        vertical-align: middle;\n",
       "    }\n",
       "\n",
       "    .dataframe tbody tr th {\n",
       "        vertical-align: top;\n",
       "    }\n",
       "\n",
       "    .dataframe thead th {\n",
       "        text-align: right;\n",
       "    }\n",
       "</style>\n",
       "<table border=\"1\" class=\"dataframe\">\n",
       "  <thead>\n",
       "    <tr style=\"text-align: right;\">\n",
       "      <th></th>\n",
       "      <th>지점</th>\n",
       "      <th>일시</th>\n",
       "      <th>기온(°C)</th>\n",
       "      <th>강수량(mm)</th>\n",
       "    </tr>\n",
       "  </thead>\n",
       "  <tbody>\n",
       "    <tr>\n",
       "      <th>0</th>\n",
       "      <td>gosan</td>\n",
       "      <td>2019-09-01</td>\n",
       "      <td>23.916667</td>\n",
       "      <td>0.00</td>\n",
       "    </tr>\n",
       "    <tr>\n",
       "      <th>1</th>\n",
       "      <td>gosan</td>\n",
       "      <td>2019-09-02</td>\n",
       "      <td>23.700000</td>\n",
       "      <td>12.10</td>\n",
       "    </tr>\n",
       "    <tr>\n",
       "      <th>2</th>\n",
       "      <td>gosan</td>\n",
       "      <td>2019-09-03</td>\n",
       "      <td>23.550000</td>\n",
       "      <td>1.90</td>\n",
       "    </tr>\n",
       "    <tr>\n",
       "      <th>3</th>\n",
       "      <td>gosan</td>\n",
       "      <td>2019-09-04</td>\n",
       "      <td>23.533333</td>\n",
       "      <td>12.84</td>\n",
       "    </tr>\n",
       "    <tr>\n",
       "      <th>4</th>\n",
       "      <td>gosan</td>\n",
       "      <td>2019-09-05</td>\n",
       "      <td>26.033333</td>\n",
       "      <td>0.00</td>\n",
       "    </tr>\n",
       "  </tbody>\n",
       "</table>\n",
       "</div>"
      ],
      "text/plain": [
       "      지점          일시     기온(°C)  강수량(mm)\n",
       "0  gosan  2019-09-01  23.916667     0.00\n",
       "1  gosan  2019-09-02  23.700000    12.10\n",
       "2  gosan  2019-09-03  23.550000     1.90\n",
       "3  gosan  2019-09-04  23.533333    12.84\n",
       "4  gosan  2019-09-05  26.033333     0.00"
      ]
     },
     "execution_count": 11,
     "metadata": {},
     "output_type": "execute_result"
    }
   ],
   "source": [
    "rain.head()"
   ]
  },
  {
   "cell_type": "code",
   "execution_count": 12,
   "id": "fe9ca184",
   "metadata": {},
   "outputs": [
    {
     "name": "stdout",
     "output_type": "stream",
     "text": [
      "<class 'pandas.core.frame.DataFrame'>\n",
      "RangeIndex: 184 entries, 0 to 183\n",
      "Data columns (total 4 columns):\n",
      " #   Column   Non-Null Count  Dtype  \n",
      "---  ------   --------------  -----  \n",
      " 0   지점       184 non-null    object \n",
      " 1   일시       184 non-null    object \n",
      " 2   기온(°C)   184 non-null    float64\n",
      " 3   강수량(mm)  66 non-null     float64\n",
      "dtypes: float64(2), object(2)\n",
      "memory usage: 5.9+ KB\n"
     ]
    }
   ],
   "source": [
    "rain.info()"
   ]
  },
  {
   "cell_type": "markdown",
   "id": "343bb491",
   "metadata": {},
   "source": [
    "### 데이터 시각화"
   ]
  },
  {
   "cell_type": "code",
   "execution_count": 13,
   "id": "5622b2a8",
   "metadata": {},
   "outputs": [],
   "source": [
    "#시각화 라이브러리 임포트\n",
    "import matplotlib\n",
    "import matplotlib.pyplot as plt\n",
    "import seaborn as sns\n",
    "\n",
    "#내부에 결과를 출력하도록 서렂ㅇ\n",
    "%matplotlib inline\n",
    "\n",
    "#시각화 한글 폰트 설정\n",
    "plt.rc('font', family='Malgun Gothic')\n",
    "\n",
    "#마이너스 기호 출력\n",
    "plt.rc('axes', unicode_minus=False)\n",
    "\n",
    "#분석에 문제가 없는 경고 메세지는 숨김\n",
    "import warnings\n",
    "warnings.filterwarnings('ignore')"
   ]
  },
  {
   "cell_type": "code",
   "execution_count": 14,
   "id": "b4550c3d",
   "metadata": {},
   "outputs": [],
   "source": [
    "#학습 데이터 복사본 생성\n",
    "train_df = train.copy()"
   ]
  },
  {
   "cell_type": "markdown",
   "id": "351f057f",
   "metadata": {},
   "source": [
    "#### 타깃 변수 분포 확인하기"
   ]
  },
  {
   "cell_type": "code",
   "execution_count": 15,
   "id": "7f547a50",
   "metadata": {},
   "outputs": [
    {
     "data": {
      "image/png": "[encoded data removed]",
      "text/plain": [
       "<Figure size 432x288 with 1 Axes>"
      ]
     },
     "metadata": {
      "needs_background": "light"
     },
     "output_type": "display_data"
    }
   ],
   "source": [
    "#타깃 변수(퇴근시간 승차인원 분포 시각화)\n",
    "sns.distplot(train_df['18~20_ride'], kde=False, bins=50)\n",
    "plt.axis([0,50,0,450000]) #x축 최솟값, x축 최댓값, y축 최솟값, y축 최댓값\n",
    "plt.title('퇴근시간 승차인원 히스토그램')\n",
    "plt.show()"
   ]
  },
  {
   "cell_type": "code",
   "execution_count": 16,
   "id": "666d57da",
   "metadata": {},
   "outputs": [
    {
     "data": {
      "text/plain": [
       "18~20_ride\n",
       "0.0    296528\n",
       "1.0     44268\n",
       "2.0     23752\n",
       "3.0     13560\n",
       "4.0      8630\n",
       "5.0      5911\n",
       "dtype: int64"
      ]
     },
     "execution_count": 16,
     "metadata": {},
     "output_type": "execute_result"
    }
   ],
   "source": [
    "#타깃변수 분포확인\n",
    "train_df.groupby('18~20_ride').size().head(6) \n",
    "\n",
    "#학습 데이터 타깃 변수의 절반이상이 0"
   ]
  },
  {
   "cell_type": "markdown",
   "id": "c6b3f4e3",
   "metadata": {},
   "source": [
    "### 단일변수에 따른 타깃 변수의 변화 파악"
   ]
  },
  {
   "cell_type": "markdown",
   "id": "a4dae4b4",
   "metadata": {},
   "source": [
    "요일에 따라"
   ]
  },
  {
   "cell_type": "code",
   "execution_count": 17,
   "id": "571da2a7",
   "metadata": {},
   "outputs": [],
   "source": [
    "#요일 변수 생성\n",
    "#날짜형으로 변환\n",
    "train_df['date'] = pd.to_datetime(train_df['date'])\n",
    "#요일을 문자형으로 추출해 변수 생성\n",
    "train_df['weekday'] = train_df['date'].dt.strftime('%a')"
   ]
  },
  {
   "cell_type": "code",
   "execution_count": 18,
   "id": "e35979d6",
   "metadata": {},
   "outputs": [
    {
     "data": {
      "image/png": "[encoded data removed]",
      "text/plain": [
       "<Figure size 432x288 with 1 Axes>"
      ]
     },
     "metadata": {
      "needs_background": "light"
     },
     "output_type": "display_data"
    }
   ],
   "source": [
    "#요일별 퇴근시간 평균 탑승객 수 시각화\n",
    "sns.barplot(x='weekday',y='18~20_ride', data=train_df)\n",
    "plt.title('요일에 따른 퇴근시간 평균 탑승객 수')\n",
    "plt.show()"
   ]
  },
  {
   "cell_type": "markdown",
   "id": "4cbaa716",
   "metadata": {},
   "source": [
    "버스 종류에 따라"
   ]
  },
  {
   "cell_type": "code",
   "execution_count": 19,
   "id": "8c1b3bf4",
   "metadata": {},
   "outputs": [
    {
     "data": {
      "image/png": "[encoded data removed]",
      "text/plain": [
       "<Figure size 432x288 with 1 Axes>"
      ]
     },
     "metadata": {
      "needs_background": "light"
     },
     "output_type": "display_data"
    }
   ],
   "source": [
    "#버스 종류별 퇴근시간 평균 탑승객 수 시각화\n",
    "sns.barplot(x='in_out',y='18~20_ride',data=train_df)\n",
    "plt.title('버스 종류에 따른 평균 탑승객 수')\n",
    "plt.show()"
   ]
  },
  {
   "cell_type": "markdown",
   "id": "7f02bdc2",
   "metadata": {},
   "source": [
    "일별 출퇴근 시간 탑승객 수"
   ]
  },
  {
   "cell_type": "code",
   "execution_count": 20,
   "id": "79e9b9d1",
   "metadata": {},
   "outputs": [
    {
     "data": {
      "text/html": [
       "<div>\n",
       "<style scoped>\n",
       "    .dataframe tbody tr th:only-of-type {\n",
       "        vertical-align: middle;\n",
       "    }\n",
       "\n",
       "    .dataframe tbody tr th {\n",
       "        vertical-align: top;\n",
       "    }\n",
       "\n",
       "    .dataframe thead th {\n",
       "        text-align: right;\n",
       "    }\n",
       "</style>\n",
       "<table border=\"1\" class=\"dataframe\">\n",
       "  <thead>\n",
       "    <tr style=\"text-align: right;\">\n",
       "      <th></th>\n",
       "      <th>date</th>\n",
       "      <th>18~20_ride</th>\n",
       "      <th>8~10_ride</th>\n",
       "    </tr>\n",
       "  </thead>\n",
       "  <tbody>\n",
       "    <tr>\n",
       "      <th>0</th>\n",
       "      <td>2019-09-01</td>\n",
       "      <td>11537.0</td>\n",
       "      <td>11957.0</td>\n",
       "    </tr>\n",
       "    <tr>\n",
       "      <th>1</th>\n",
       "      <td>2019-09-02</td>\n",
       "      <td>20561.0</td>\n",
       "      <td>21844.0</td>\n",
       "    </tr>\n",
       "    <tr>\n",
       "      <th>2</th>\n",
       "      <td>2019-09-03</td>\n",
       "      <td>19743.0</td>\n",
       "      <td>25756.0</td>\n",
       "    </tr>\n",
       "    <tr>\n",
       "      <th>3</th>\n",
       "      <td>2019-09-04</td>\n",
       "      <td>20133.0</td>\n",
       "      <td>21472.0</td>\n",
       "    </tr>\n",
       "    <tr>\n",
       "      <th>4</th>\n",
       "      <td>2019-09-05</td>\n",
       "      <td>20392.0</td>\n",
       "      <td>26331.0</td>\n",
       "    </tr>\n",
       "  </tbody>\n",
       "</table>\n",
       "</div>"
      ],
      "text/plain": [
       "        date  18~20_ride  8~10_ride\n",
       "0 2019-09-01     11537.0    11957.0\n",
       "1 2019-09-02     20561.0    21844.0\n",
       "2 2019-09-03     19743.0    25756.0\n",
       "3 2019-09-04     20133.0    21472.0\n",
       "4 2019-09-05     20392.0    26331.0"
      ]
     },
     "execution_count": 20,
     "metadata": {},
     "output_type": "execute_result"
    }
   ],
   "source": [
    "#일별 출퇴근 시간의 총 승차 인원 데이터 생성\n",
    "train_df['8~10_ride']= train_df['8~9_ride'] + train_df['9~10_ride']\n",
    "eda_data = train_df.groupby('date')[['18~20_ride','8~10_ride']].agg('sum').reset_index()\n",
    "eda_data.head()"
   ]
  },
  {
   "cell_type": "code",
   "execution_count": 21,
   "id": "394c05ad",
   "metadata": {},
   "outputs": [
    {
     "data": {
      "image/png": "[encoded data removed]",
      "text/plain": [
       "<Figure size 432x288 with 1 Axes>"
      ]
     },
     "metadata": {
      "needs_background": "light"
     },
     "output_type": "display_data"
    }
   ],
   "source": [
    "#일별 출퇴근 시간 탑승객 수 시각화\n",
    "plt.plot('date','18~20_ride','g-', label='퇴근 시간 탑승객 수', data=eda_data)\n",
    "plt.plot('date','8~10_ride','b-', label='출근 시간 탑승객 수', data=eda_data)\n",
    "plt.gcf().autofmt_xdate() #x축의 라벨이 서로 겹치지 않도록 설정\n",
    "plt.legend(loc=0)\n",
    "plt.show()\n",
    "\n",
    "#그래프를 살펴보면 일별로 패턴이 있는 시계열 자료라는 것을 확인\n",
    "#출근시간의 탑승객 수 > 퇴근시간의 탑승객 수\n",
    "#두 변수의 탑승객 수는 비슷항 양상을 띔"
   ]
  },
  {
   "cell_type": "markdown",
   "id": "dcaadcb0",
   "metadata": {},
   "source": [
    "# 데이터 전처리"
   ]
  },
  {
   "cell_type": "code",
   "execution_count": 22,
   "id": "b678485c",
   "metadata": {},
   "outputs": [],
   "source": [
    "#학습 데이터와 테스트 데이터를 구분하기 위한 변수 생성\n",
    "train['cue']=0\n",
    "test['cue']=1\n",
    "\n",
    "#학습데이터랑 테스트 데이터 병합\n",
    "df = pd.concat([train, test],axis=0)"
   ]
  },
  {
   "cell_type": "markdown",
   "id": "2ac877b0",
   "metadata": {},
   "source": [
    "### 내부 데이터를 통한 변수 생성"
   ]
  },
  {
   "cell_type": "markdown",
   "id": "2eb32ed1",
   "metadata": {},
   "source": [
    "요일을 나타내는 변수 = weekday"
   ]
  },
  {
   "cell_type": "code",
   "execution_count": 23,
   "id": "e72a4c50",
   "metadata": {},
   "outputs": [],
   "source": [
    "#datetime으로 변수형 변환\n",
    "df['date'] = pd.to_datetime(df['date'])\n",
    "\n",
    "#요일추출(0=mon, 6=sun)\n",
    "df['weekday'] = df['date'].dt.weekday"
   ]
  },
  {
   "cell_type": "code",
   "execution_count": 24,
   "id": "f10aabc6",
   "metadata": {},
   "outputs": [
    {
     "data": {
      "text/html": [
       "<div>\n",
       "<style scoped>\n",
       "    .dataframe tbody tr th:only-of-type {\n",
       "        vertical-align: middle;\n",
       "    }\n",
       "\n",
       "    .dataframe tbody tr th {\n",
       "        vertical-align: top;\n",
       "    }\n",
       "\n",
       "    .dataframe thead th {\n",
       "        text-align: right;\n",
       "    }\n",
       "</style>\n",
       "<table border=\"1\" class=\"dataframe\">\n",
       "  <thead>\n",
       "    <tr style=\"text-align: right;\">\n",
       "      <th></th>\n",
       "      <th>weekday</th>\n",
       "    </tr>\n",
       "  </thead>\n",
       "  <tbody>\n",
       "    <tr>\n",
       "      <th>0</th>\n",
       "      <td>6</td>\n",
       "    </tr>\n",
       "    <tr>\n",
       "      <th>1</th>\n",
       "      <td>6</td>\n",
       "    </tr>\n",
       "    <tr>\n",
       "      <th>2</th>\n",
       "      <td>6</td>\n",
       "    </tr>\n",
       "    <tr>\n",
       "      <th>3</th>\n",
       "      <td>6</td>\n",
       "    </tr>\n",
       "    <tr>\n",
       "      <th>4</th>\n",
       "      <td>6</td>\n",
       "    </tr>\n",
       "  </tbody>\n",
       "</table>\n",
       "</div>"
      ],
      "text/plain": [
       "   weekday\n",
       "0        6\n",
       "1        6\n",
       "2        6\n",
       "3        6\n",
       "4        6"
      ]
     },
     "execution_count": 24,
     "metadata": {},
     "output_type": "execute_result"
    }
   ],
   "source": [
    "df[['weekday']].head()"
   ]
  },
  {
   "cell_type": "markdown",
   "id": "4c01a8be",
   "metadata": {},
   "source": [
    "요일별 평균 탐승객 수 = weekdaymean"
   ]
  },
  {
   "cell_type": "code",
   "execution_count": 30,
   "id": "52ba273c",
   "metadata": {},
   "outputs": [],
   "source": [
    "#요일별 평균 탑승객 수를 구하는 함수\n",
    "def week_mean():\n",
    "    #전체 데이터에서 train 데이터에 해당하는 행 추출\n",
    "    train_data = df.query('cue==0').reset_index(drop=True)\n",
    "    \n",
    "    #일괄적으로 1의 값을 가지는 'weekdaymean' 변수 생성\n",
    "    df['weekdaymean']=1\n",
    "    \n",
    "    #각 요일에 해당하는 인덱스 추출\n",
    "    index0=df.query('weekday==0').index\n",
    "    index1=df.query('weekday==1').index\n",
    "    index2=df.query('weekday==2').index\n",
    "    index3=df.query('weekday==3').index\n",
    "    index4=df.query('weekday==4').index\n",
    "    index5=df.query('weekday==5').index\n",
    "    index6=df.query('weekday==6').index\n",
    "    \n",
    "    #인덱스를 활용해 'weekdaymean'의 값을 각 요일에 맞는 평균 탑승객 수로 변경\n",
    "    df.iloc[index0,-1] = train_data.query('weekday==0')['18~20_ride'].mean()\n",
    "    df.iloc[index1,-1] = train_data.query('weekday==1')['18~20_ride'].mean()\n",
    "    df.iloc[index2,-1] = train_data.query('weekday==2')['18~20_ride'].mean()\n",
    "    df.iloc[index3,-1] = train_data.query('weekday==3')['18~20_ride'].mean()\n",
    "    df.iloc[index4,-1] = train_data.query('weekday==4')['18~20_ride'].mean()\n",
    "    df.iloc[index5,-1] = train_data.query('weekday==5')['18~20_ride'].mean()\n",
    "    df.iloc[index6,-1] = train_data.query('weekday==6')['18~20_ride'].mean()\n",
    "    \n",
    "    return df\n",
    "\n",
    "#함수 실행\n",
    "df = week_mean()\n",
    "    "
   ]
  },
  {
   "cell_type": "code",
   "execution_count": 31,
   "id": "b9edd8cd",
   "metadata": {},
   "outputs": [
    {
     "data": {
      "text/html": [
       "<div>\n",
       "<style scoped>\n",
       "    .dataframe tbody tr th:only-of-type {\n",
       "        vertical-align: middle;\n",
       "    }\n",
       "\n",
       "    .dataframe tbody tr th {\n",
       "        vertical-align: top;\n",
       "    }\n",
       "\n",
       "    .dataframe thead th {\n",
       "        text-align: right;\n",
       "    }\n",
       "</style>\n",
       "<table border=\"1\" class=\"dataframe\">\n",
       "  <thead>\n",
       "    <tr style=\"text-align: right;\">\n",
       "      <th></th>\n",
       "      <th>weekdaymean</th>\n",
       "    </tr>\n",
       "  </thead>\n",
       "  <tbody>\n",
       "    <tr>\n",
       "      <th>0</th>\n",
       "      <td>1.034282</td>\n",
       "    </tr>\n",
       "    <tr>\n",
       "      <th>1</th>\n",
       "      <td>1.034282</td>\n",
       "    </tr>\n",
       "    <tr>\n",
       "      <th>2</th>\n",
       "      <td>1.034282</td>\n",
       "    </tr>\n",
       "    <tr>\n",
       "      <th>3</th>\n",
       "      <td>1.034282</td>\n",
       "    </tr>\n",
       "    <tr>\n",
       "      <th>4</th>\n",
       "      <td>1.034282</td>\n",
       "    </tr>\n",
       "  </tbody>\n",
       "</table>\n",
       "</div>"
      ],
      "text/plain": [
       "   weekdaymean\n",
       "0     1.034282\n",
       "1     1.034282\n",
       "2     1.034282\n",
       "3     1.034282\n",
       "4     1.034282"
      ]
     },
     "execution_count": 31,
     "metadata": {},
     "output_type": "execute_result"
    }
   ],
   "source": [
    "df[['weekdaymean']].head()"
   ]
  },
  {
   "cell_type": "markdown",
   "id": "3d8a9c00",
   "metadata": {},
   "source": [
    "버스 종류별 평균 탑승객 수 =in_out_mean"
   ]
  },
  {
   "cell_type": "code",
   "execution_count": 32,
   "id": "cf7d8c4a",
   "metadata": {},
   "outputs": [],
   "source": [
    "#버스 종류별 평균 탑승객 수를 구하는 함수\n",
    "def in_out_mean():\n",
    "    train_data = df.query('cue==0').reset_index(drop=True)\n",
    "    df['in_out_mean']=1\n",
    "    \n",
    "    in_index = df.query('in_out==\"시내\"').index\n",
    "    out_index = df.query('in_out==\"시외\"').index\n",
    "    \n",
    "    df.iloc[in_index,-1] = train_data.query('in_out ==\"시내\"')['18~20_ride'].mean()\n",
    "    df.iloc[out_index,-1] = train_data.query('in_out ==\"시외\"')['18~20_ride'].mean()\n",
    "    \n",
    "    return df\n",
    "\n",
    "df = in_out_mean()"
   ]
  },
  {
   "cell_type": "code",
   "execution_count": 33,
   "id": "90444880",
   "metadata": {},
   "outputs": [
    {
     "data": {
      "text/html": [
       "<div>\n",
       "<style scoped>\n",
       "    .dataframe tbody tr th:only-of-type {\n",
       "        vertical-align: middle;\n",
       "    }\n",
       "\n",
       "    .dataframe tbody tr th {\n",
       "        vertical-align: top;\n",
       "    }\n",
       "\n",
       "    .dataframe thead th {\n",
       "        text-align: right;\n",
       "    }\n",
       "</style>\n",
       "<table border=\"1\" class=\"dataframe\">\n",
       "  <thead>\n",
       "    <tr style=\"text-align: right;\">\n",
       "      <th></th>\n",
       "      <th>in_out_mean</th>\n",
       "    </tr>\n",
       "  </thead>\n",
       "  <tbody>\n",
       "    <tr>\n",
       "      <th>0</th>\n",
       "      <td>2.044345</td>\n",
       "    </tr>\n",
       "    <tr>\n",
       "      <th>1</th>\n",
       "      <td>2.044345</td>\n",
       "    </tr>\n",
       "    <tr>\n",
       "      <th>2</th>\n",
       "      <td>2.044345</td>\n",
       "    </tr>\n",
       "    <tr>\n",
       "      <th>3</th>\n",
       "      <td>1.228499</td>\n",
       "    </tr>\n",
       "    <tr>\n",
       "      <th>4</th>\n",
       "      <td>1.228499</td>\n",
       "    </tr>\n",
       "  </tbody>\n",
       "</table>\n",
       "</div>"
      ],
      "text/plain": [
       "   in_out_mean\n",
       "0     2.044345\n",
       "1     2.044345\n",
       "2     2.044345\n",
       "3     1.228499\n",
       "4     1.228499"
      ]
     },
     "execution_count": 33,
     "metadata": {},
     "output_type": "execute_result"
    }
   ],
   "source": [
    "df[['in_out_mean']].head()"
   ]
  },
  {
   "cell_type": "markdown",
   "id": "3822cf0f",
   "metadata": {},
   "source": [
    "일별 오전 시간대의 총 탑승객 수"
   ]
  },
  {
   "cell_type": "code",
   "execution_count": 35,
   "id": "3d85439e",
   "metadata": {},
   "outputs": [],
   "source": [
    "#날짜별 오전 시간에 탑승한 총 탑승객 수\n",
    "f = df.groupby('date')['6~7_ride','7~8_ride','8~9_ride','9~10_ride','10~11_ride'].sum().reset_index()\n",
    "\n",
    "#변수명 변경\n",
    "f.columns = ['date','6~7_ride_sum','7~8_ride_sum','8~9_ride_sum','9~10_ride_sum','10~11_ride_sum']\n",
    "\n",
    "#기존 데이터프레임에 새로운 변수를 통합\n",
    "df = pd.merge(df, f, how='left', on='date')"
   ]
  },
  {
   "cell_type": "code",
   "execution_count": 36,
   "id": "064f774d",
   "metadata": {},
   "outputs": [
    {
     "data": {
      "text/html": [
       "<div>\n",
       "<style scoped>\n",
       "    .dataframe tbody tr th:only-of-type {\n",
       "        vertical-align: middle;\n",
       "    }\n",
       "\n",
       "    .dataframe tbody tr th {\n",
       "        vertical-align: top;\n",
       "    }\n",
       "\n",
       "    .dataframe thead th {\n",
       "        text-align: right;\n",
       "    }\n",
       "</style>\n",
       "<table border=\"1\" class=\"dataframe\">\n",
       "  <thead>\n",
       "    <tr style=\"text-align: right;\">\n",
       "      <th></th>\n",
       "      <th>date</th>\n",
       "      <th>6~7_ride_sum</th>\n",
       "      <th>7~8_ride_sum</th>\n",
       "      <th>8~9_ride_sum</th>\n",
       "      <th>9~10_ride_sum</th>\n",
       "      <th>10~11_ride_sum</th>\n",
       "    </tr>\n",
       "  </thead>\n",
       "  <tbody>\n",
       "    <tr>\n",
       "      <th>0</th>\n",
       "      <td>2019-09-01</td>\n",
       "      <td>2942.0</td>\n",
       "      <td>4518.0</td>\n",
       "      <td>5682.0</td>\n",
       "      <td>6275.0</td>\n",
       "      <td>6774.0</td>\n",
       "    </tr>\n",
       "    <tr>\n",
       "      <th>1</th>\n",
       "      <td>2019-09-01</td>\n",
       "      <td>2942.0</td>\n",
       "      <td>4518.0</td>\n",
       "      <td>5682.0</td>\n",
       "      <td>6275.0</td>\n",
       "      <td>6774.0</td>\n",
       "    </tr>\n",
       "    <tr>\n",
       "      <th>2</th>\n",
       "      <td>2019-09-01</td>\n",
       "      <td>2942.0</td>\n",
       "      <td>4518.0</td>\n",
       "      <td>5682.0</td>\n",
       "      <td>6275.0</td>\n",
       "      <td>6774.0</td>\n",
       "    </tr>\n",
       "    <tr>\n",
       "      <th>3</th>\n",
       "      <td>2019-09-01</td>\n",
       "      <td>2942.0</td>\n",
       "      <td>4518.0</td>\n",
       "      <td>5682.0</td>\n",
       "      <td>6275.0</td>\n",
       "      <td>6774.0</td>\n",
       "    </tr>\n",
       "    <tr>\n",
       "      <th>4</th>\n",
       "      <td>2019-09-01</td>\n",
       "      <td>2942.0</td>\n",
       "      <td>4518.0</td>\n",
       "      <td>5682.0</td>\n",
       "      <td>6275.0</td>\n",
       "      <td>6774.0</td>\n",
       "    </tr>\n",
       "  </tbody>\n",
       "</table>\n",
       "</div>"
      ],
      "text/plain": [
       "        date  6~7_ride_sum  7~8_ride_sum  8~9_ride_sum  9~10_ride_sum  \\\n",
       "0 2019-09-01        2942.0        4518.0        5682.0         6275.0   \n",
       "1 2019-09-01        2942.0        4518.0        5682.0         6275.0   \n",
       "2 2019-09-01        2942.0        4518.0        5682.0         6275.0   \n",
       "3 2019-09-01        2942.0        4518.0        5682.0         6275.0   \n",
       "4 2019-09-01        2942.0        4518.0        5682.0         6275.0   \n",
       "\n",
       "   10~11_ride_sum  \n",
       "0          6774.0  \n",
       "1          6774.0  \n",
       "2          6774.0  \n",
       "3          6774.0  \n",
       "4          6774.0  "
      ]
     },
     "execution_count": 36,
     "metadata": {},
     "output_type": "execute_result"
    }
   ],
   "source": [
    "df[['date','6~7_ride_sum','7~8_ride_sum','8~9_ride_sum','9~10_ride_sum','10~11_ride_sum']].head()"
   ]
  },
  {
   "cell_type": "markdown",
   "id": "e68a601c",
   "metadata": {},
   "source": [
    "### 도메인 조사를 통한 변수 생성"
   ]
  },
  {
   "cell_type": "markdown",
   "id": "4b42e9ba",
   "metadata": {},
   "source": [
    "배차간격 = bus_interval"
   ]
  },
  {
   "cell_type": "code",
   "execution_count": null,
   "id": "d9e22cb5",
   "metadata": {},
   "outputs": [],
   "source": []
  }
 ],
 "metadata": {
  "kernelspec": {
   "display_name": "Python 3",
   "language": "python",
   "name": "python3"
  },
  "language_info": {
   "codemirror_mode": {
    "name": "ipython",
    "version": 3
   },
   "file_extension": ".py",
   "mimetype": "text/x-python",
   "name": "python",
   "nbconvert_exporter": "python",
   "pygments_lexer": "ipython3",
   "version": "3.8.8"
  }
 },
 "nbformat": 4,
 "nbformat_minor": 5
}
