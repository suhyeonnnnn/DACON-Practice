{
 "cells": [
  {
   "cell_type": "code",
   "execution_count": 1,
   "id": "544a5ebd",
   "metadata": {},
   "outputs": [],
   "source": [
    "import pandas as pd\n",
    "import os\n",
    "import warnings\n",
    "\n",
    "warnings.filterwarnings('ignore')\n",
    "\n",
    "train = pd.read_csv(\"funda_train.csv\")\n",
    "submission = pd.read_csv('submission.csv')"
   ]
  },
  {
   "cell_type": "code",
   "execution_count": 2,
   "id": "9beae5b5",
   "metadata": {},
   "outputs": [
    {
     "data": {
      "text/plain": [
       "(6556613, 9)"
      ]
     },
     "execution_count": 2,
     "metadata": {},
     "output_type": "execute_result"
    }
   ],
   "source": [
    "train.shape"
   ]
  },
  {
   "cell_type": "code",
   "execution_count": 3,
   "id": "1151e0ca",
   "metadata": {},
   "outputs": [
    {
     "data": {
      "text/html": [
       "<div>\n",
       "<style scoped>\n",
       "    .dataframe tbody tr th:only-of-type {\n",
       "        vertical-align: middle;\n",
       "    }\n",
       "\n",
       "    .dataframe tbody tr th {\n",
       "        vertical-align: top;\n",
       "    }\n",
       "\n",
       "    .dataframe thead th {\n",
       "        text-align: right;\n",
       "    }\n",
       "</style>\n",
       "<table border=\"1\" class=\"dataframe\">\n",
       "  <thead>\n",
       "    <tr style=\"text-align: right;\">\n",
       "      <th></th>\n",
       "      <th>store_id</th>\n",
       "      <th>card_id</th>\n",
       "      <th>card_company</th>\n",
       "      <th>transacted_date</th>\n",
       "      <th>transacted_time</th>\n",
       "      <th>installment_term</th>\n",
       "      <th>region</th>\n",
       "      <th>type_of_business</th>\n",
       "      <th>amount</th>\n",
       "    </tr>\n",
       "  </thead>\n",
       "  <tbody>\n",
       "    <tr>\n",
       "      <th>0</th>\n",
       "      <td>0</td>\n",
       "      <td>0</td>\n",
       "      <td>b</td>\n",
       "      <td>2016-06-01</td>\n",
       "      <td>13:13</td>\n",
       "      <td>0</td>\n",
       "      <td>NaN</td>\n",
       "      <td>기타 미용업</td>\n",
       "      <td>1857.142857</td>\n",
       "    </tr>\n",
       "    <tr>\n",
       "      <th>1</th>\n",
       "      <td>0</td>\n",
       "      <td>1</td>\n",
       "      <td>h</td>\n",
       "      <td>2016-06-01</td>\n",
       "      <td>18:12</td>\n",
       "      <td>0</td>\n",
       "      <td>NaN</td>\n",
       "      <td>기타 미용업</td>\n",
       "      <td>857.142857</td>\n",
       "    </tr>\n",
       "    <tr>\n",
       "      <th>2</th>\n",
       "      <td>0</td>\n",
       "      <td>2</td>\n",
       "      <td>c</td>\n",
       "      <td>2016-06-01</td>\n",
       "      <td>18:52</td>\n",
       "      <td>0</td>\n",
       "      <td>NaN</td>\n",
       "      <td>기타 미용업</td>\n",
       "      <td>2000.000000</td>\n",
       "    </tr>\n",
       "    <tr>\n",
       "      <th>3</th>\n",
       "      <td>0</td>\n",
       "      <td>3</td>\n",
       "      <td>a</td>\n",
       "      <td>2016-06-01</td>\n",
       "      <td>20:22</td>\n",
       "      <td>0</td>\n",
       "      <td>NaN</td>\n",
       "      <td>기타 미용업</td>\n",
       "      <td>7857.142857</td>\n",
       "    </tr>\n",
       "    <tr>\n",
       "      <th>4</th>\n",
       "      <td>0</td>\n",
       "      <td>4</td>\n",
       "      <td>c</td>\n",
       "      <td>2016-06-02</td>\n",
       "      <td>11:06</td>\n",
       "      <td>0</td>\n",
       "      <td>NaN</td>\n",
       "      <td>기타 미용업</td>\n",
       "      <td>2000.000000</td>\n",
       "    </tr>\n",
       "  </tbody>\n",
       "</table>\n",
       "</div>"
      ],
      "text/plain": [
       "   store_id  card_id card_company transacted_date transacted_time  \\\n",
       "0         0        0            b      2016-06-01           13:13   \n",
       "1         0        1            h      2016-06-01           18:12   \n",
       "2         0        2            c      2016-06-01           18:52   \n",
       "3         0        3            a      2016-06-01           20:22   \n",
       "4         0        4            c      2016-06-02           11:06   \n",
       "\n",
       "   installment_term region type_of_business       amount  \n",
       "0                 0    NaN           기타 미용업  1857.142857  \n",
       "1                 0    NaN           기타 미용업   857.142857  \n",
       "2                 0    NaN           기타 미용업  2000.000000  \n",
       "3                 0    NaN           기타 미용업  7857.142857  \n",
       "4                 0    NaN           기타 미용업  2000.000000  "
      ]
     },
     "execution_count": 3,
     "metadata": {},
     "output_type": "execute_result"
    }
   ],
   "source": [
    "train.head()"
   ]
  },
  {
   "cell_type": "code",
   "execution_count": 4,
   "id": "08915ee9",
   "metadata": {},
   "outputs": [
    {
     "name": "stdout",
     "output_type": "stream",
     "text": [
      "<class 'pandas.core.frame.DataFrame'>\n",
      "RangeIndex: 6556613 entries, 0 to 6556612\n",
      "Data columns (total 9 columns):\n",
      " #   Column            Dtype  \n",
      "---  ------            -----  \n",
      " 0   store_id          int64  \n",
      " 1   card_id           int64  \n",
      " 2   card_company      object \n",
      " 3   transacted_date   object \n",
      " 4   transacted_time   object \n",
      " 5   installment_term  int64  \n",
      " 6   region            object \n",
      " 7   type_of_business  object \n",
      " 8   amount            float64\n",
      "dtypes: float64(1), int64(3), object(5)\n",
      "memory usage: 450.2+ MB\n"
     ]
    }
   ],
   "source": [
    "train.info()"
   ]
  },
  {
   "cell_type": "code",
   "execution_count": 5,
   "id": "c4068626",
   "metadata": {},
   "outputs": [
    {
     "data": {
      "text/html": [
       "<div>\n",
       "<style scoped>\n",
       "    .dataframe tbody tr th:only-of-type {\n",
       "        vertical-align: middle;\n",
       "    }\n",
       "\n",
       "    .dataframe tbody tr th {\n",
       "        vertical-align: top;\n",
       "    }\n",
       "\n",
       "    .dataframe thead th {\n",
       "        text-align: right;\n",
       "    }\n",
       "</style>\n",
       "<table border=\"1\" class=\"dataframe\">\n",
       "  <thead>\n",
       "    <tr style=\"text-align: right;\">\n",
       "      <th></th>\n",
       "      <th>store_id</th>\n",
       "      <th>card_id</th>\n",
       "      <th>card_company</th>\n",
       "      <th>transacted_date</th>\n",
       "      <th>transacted_time</th>\n",
       "      <th>installment_term</th>\n",
       "      <th>region</th>\n",
       "      <th>type_of_business</th>\n",
       "      <th>amount</th>\n",
       "    </tr>\n",
       "  </thead>\n",
       "  <tbody>\n",
       "    <tr>\n",
       "      <th>0</th>\n",
       "      <td>0</td>\n",
       "      <td>0</td>\n",
       "      <td>b</td>\n",
       "      <td>2016-06-01</td>\n",
       "      <td>13:13</td>\n",
       "      <td>0</td>\n",
       "      <td>NaN</td>\n",
       "      <td>기타 미용업</td>\n",
       "      <td>1857.142857</td>\n",
       "    </tr>\n",
       "    <tr>\n",
       "      <th>1</th>\n",
       "      <td>0</td>\n",
       "      <td>1</td>\n",
       "      <td>h</td>\n",
       "      <td>2016-06-01</td>\n",
       "      <td>18:12</td>\n",
       "      <td>0</td>\n",
       "      <td>NaN</td>\n",
       "      <td>기타 미용업</td>\n",
       "      <td>857.142857</td>\n",
       "    </tr>\n",
       "    <tr>\n",
       "      <th>2</th>\n",
       "      <td>0</td>\n",
       "      <td>2</td>\n",
       "      <td>c</td>\n",
       "      <td>2016-06-01</td>\n",
       "      <td>18:52</td>\n",
       "      <td>0</td>\n",
       "      <td>NaN</td>\n",
       "      <td>기타 미용업</td>\n",
       "      <td>2000.000000</td>\n",
       "    </tr>\n",
       "    <tr>\n",
       "      <th>3</th>\n",
       "      <td>0</td>\n",
       "      <td>3</td>\n",
       "      <td>a</td>\n",
       "      <td>2016-06-01</td>\n",
       "      <td>20:22</td>\n",
       "      <td>0</td>\n",
       "      <td>NaN</td>\n",
       "      <td>기타 미용업</td>\n",
       "      <td>7857.142857</td>\n",
       "    </tr>\n",
       "    <tr>\n",
       "      <th>4</th>\n",
       "      <td>0</td>\n",
       "      <td>4</td>\n",
       "      <td>c</td>\n",
       "      <td>2016-06-02</td>\n",
       "      <td>11:06</td>\n",
       "      <td>0</td>\n",
       "      <td>NaN</td>\n",
       "      <td>기타 미용업</td>\n",
       "      <td>2000.000000</td>\n",
       "    </tr>\n",
       "  </tbody>\n",
       "</table>\n",
       "</div>"
      ],
      "text/plain": [
       "   store_id  card_id card_company transacted_date transacted_time  \\\n",
       "0         0        0            b      2016-06-01           13:13   \n",
       "1         0        1            h      2016-06-01           18:12   \n",
       "2         0        2            c      2016-06-01           18:52   \n",
       "3         0        3            a      2016-06-01           20:22   \n",
       "4         0        4            c      2016-06-02           11:06   \n",
       "\n",
       "   installment_term region type_of_business       amount  \n",
       "0                 0    NaN           기타 미용업  1857.142857  \n",
       "1                 0    NaN           기타 미용업   857.142857  \n",
       "2                 0    NaN           기타 미용업  2000.000000  \n",
       "3                 0    NaN           기타 미용업  7857.142857  \n",
       "4                 0    NaN           기타 미용업  2000.000000  "
      ]
     },
     "execution_count": 5,
     "metadata": {},
     "output_type": "execute_result"
    }
   ],
   "source": [
    "#결측치 획인\n",
    "train[:5]"
   ]
  },
  {
   "cell_type": "code",
   "execution_count": 6,
   "id": "c9faa4c9",
   "metadata": {
    "scrolled": true
   },
   "outputs": [
    {
     "data": {
      "text/html": [
       "<div>\n",
       "<style scoped>\n",
       "    .dataframe tbody tr th:only-of-type {\n",
       "        vertical-align: middle;\n",
       "    }\n",
       "\n",
       "    .dataframe tbody tr th {\n",
       "        vertical-align: top;\n",
       "    }\n",
       "\n",
       "    .dataframe thead th {\n",
       "        text-align: right;\n",
       "    }\n",
       "</style>\n",
       "<table border=\"1\" class=\"dataframe\">\n",
       "  <thead>\n",
       "    <tr style=\"text-align: right;\">\n",
       "      <th></th>\n",
       "      <th>store_id</th>\n",
       "      <th>card_id</th>\n",
       "      <th>card_company</th>\n",
       "      <th>transacted_date</th>\n",
       "      <th>transacted_time</th>\n",
       "      <th>installment_term</th>\n",
       "      <th>region</th>\n",
       "      <th>type_of_business</th>\n",
       "      <th>amount</th>\n",
       "    </tr>\n",
       "  </thead>\n",
       "  <tbody>\n",
       "    <tr>\n",
       "      <th>41</th>\n",
       "      <td>0</td>\n",
       "      <td>40</td>\n",
       "      <td>a</td>\n",
       "      <td>2016-06-10</td>\n",
       "      <td>17:26</td>\n",
       "      <td>2</td>\n",
       "      <td>NaN</td>\n",
       "      <td>기타 미용업</td>\n",
       "      <td>-8571.428571</td>\n",
       "    </tr>\n",
       "    <tr>\n",
       "      <th>347</th>\n",
       "      <td>0</td>\n",
       "      <td>285</td>\n",
       "      <td>a</td>\n",
       "      <td>2016-08-04</td>\n",
       "      <td>17:52</td>\n",
       "      <td>0</td>\n",
       "      <td>NaN</td>\n",
       "      <td>기타 미용업</td>\n",
       "      <td>-1857.142857</td>\n",
       "    </tr>\n",
       "    <tr>\n",
       "      <th>731</th>\n",
       "      <td>0</td>\n",
       "      <td>473</td>\n",
       "      <td>g</td>\n",
       "      <td>2016-10-17</td>\n",
       "      <td>10:32</td>\n",
       "      <td>0</td>\n",
       "      <td>NaN</td>\n",
       "      <td>기타 미용업</td>\n",
       "      <td>-2000.000000</td>\n",
       "    </tr>\n",
       "    <tr>\n",
       "      <th>831</th>\n",
       "      <td>0</td>\n",
       "      <td>230</td>\n",
       "      <td>b</td>\n",
       "      <td>2016-11-03</td>\n",
       "      <td>15:36</td>\n",
       "      <td>0</td>\n",
       "      <td>NaN</td>\n",
       "      <td>기타 미용업</td>\n",
       "      <td>-85.714286</td>\n",
       "    </tr>\n",
       "    <tr>\n",
       "      <th>944</th>\n",
       "      <td>0</td>\n",
       "      <td>138</td>\n",
       "      <td>a</td>\n",
       "      <td>2016-11-28</td>\n",
       "      <td>13:21</td>\n",
       "      <td>0</td>\n",
       "      <td>NaN</td>\n",
       "      <td>기타 미용업</td>\n",
       "      <td>-57.142857</td>\n",
       "    </tr>\n",
       "    <tr>\n",
       "      <th>...</th>\n",
       "      <td>...</td>\n",
       "      <td>...</td>\n",
       "      <td>...</td>\n",
       "      <td>...</td>\n",
       "      <td>...</td>\n",
       "      <td>...</td>\n",
       "      <td>...</td>\n",
       "      <td>...</td>\n",
       "      <td>...</td>\n",
       "    </tr>\n",
       "    <tr>\n",
       "      <th>6556242</th>\n",
       "      <td>2136</td>\n",
       "      <td>4663626</td>\n",
       "      <td>b</td>\n",
       "      <td>2019-02-01</td>\n",
       "      <td>21:19</td>\n",
       "      <td>0</td>\n",
       "      <td>제주 제주시</td>\n",
       "      <td>기타 주점업</td>\n",
       "      <td>-13428.571429</td>\n",
       "    </tr>\n",
       "    <tr>\n",
       "      <th>6556448</th>\n",
       "      <td>2136</td>\n",
       "      <td>4663760</td>\n",
       "      <td>d</td>\n",
       "      <td>2019-02-15</td>\n",
       "      <td>00:46</td>\n",
       "      <td>0</td>\n",
       "      <td>제주 제주시</td>\n",
       "      <td>기타 주점업</td>\n",
       "      <td>-6928.571429</td>\n",
       "    </tr>\n",
       "    <tr>\n",
       "      <th>6556485</th>\n",
       "      <td>2136</td>\n",
       "      <td>4663779</td>\n",
       "      <td>b</td>\n",
       "      <td>2019-02-18</td>\n",
       "      <td>02:45</td>\n",
       "      <td>0</td>\n",
       "      <td>제주 제주시</td>\n",
       "      <td>기타 주점업</td>\n",
       "      <td>-5571.428571</td>\n",
       "    </tr>\n",
       "    <tr>\n",
       "      <th>6556489</th>\n",
       "      <td>2136</td>\n",
       "      <td>4663780</td>\n",
       "      <td>d</td>\n",
       "      <td>2019-02-18</td>\n",
       "      <td>21:43</td>\n",
       "      <td>0</td>\n",
       "      <td>제주 제주시</td>\n",
       "      <td>기타 주점업</td>\n",
       "      <td>-8571.428571</td>\n",
       "    </tr>\n",
       "    <tr>\n",
       "      <th>6556608</th>\n",
       "      <td>2136</td>\n",
       "      <td>4663855</td>\n",
       "      <td>d</td>\n",
       "      <td>2019-02-28</td>\n",
       "      <td>23:20</td>\n",
       "      <td>0</td>\n",
       "      <td>제주 제주시</td>\n",
       "      <td>기타 주점업</td>\n",
       "      <td>-4500.000000</td>\n",
       "    </tr>\n",
       "  </tbody>\n",
       "</table>\n",
       "<p>73100 rows × 9 columns</p>\n",
       "</div>"
      ],
      "text/plain": [
       "         store_id  card_id card_company transacted_date transacted_time  \\\n",
       "41              0       40            a      2016-06-10           17:26   \n",
       "347             0      285            a      2016-08-04           17:52   \n",
       "731             0      473            g      2016-10-17           10:32   \n",
       "831             0      230            b      2016-11-03           15:36   \n",
       "944             0      138            a      2016-11-28           13:21   \n",
       "...           ...      ...          ...             ...             ...   \n",
       "6556242      2136  4663626            b      2019-02-01           21:19   \n",
       "6556448      2136  4663760            d      2019-02-15           00:46   \n",
       "6556485      2136  4663779            b      2019-02-18           02:45   \n",
       "6556489      2136  4663780            d      2019-02-18           21:43   \n",
       "6556608      2136  4663855            d      2019-02-28           23:20   \n",
       "\n",
       "         installment_term  region type_of_business        amount  \n",
       "41                      2     NaN           기타 미용업  -8571.428571  \n",
       "347                     0     NaN           기타 미용업  -1857.142857  \n",
       "731                     0     NaN           기타 미용업  -2000.000000  \n",
       "831                     0     NaN           기타 미용업    -85.714286  \n",
       "944                     0     NaN           기타 미용업    -57.142857  \n",
       "...                   ...     ...              ...           ...  \n",
       "6556242                 0  제주 제주시           기타 주점업 -13428.571429  \n",
       "6556448                 0  제주 제주시           기타 주점업  -6928.571429  \n",
       "6556485                 0  제주 제주시           기타 주점업  -5571.428571  \n",
       "6556489                 0  제주 제주시           기타 주점업  -8571.428571  \n",
       "6556608                 0  제주 제주시           기타 주점업  -4500.000000  \n",
       "\n",
       "[73100 rows x 9 columns]"
      ]
     },
     "execution_count": 6,
     "metadata": {},
     "output_type": "execute_result"
    }
   ],
   "source": [
    "train[train['amount']<0]"
   ]
  },
  {
   "cell_type": "markdown",
   "id": "e7265fd4",
   "metadata": {},
   "source": [
    "# 데이터 전처리"
   ]
  },
  {
   "cell_type": "markdown",
   "id": "37c35a46",
   "metadata": {},
   "source": [
    "## 노이즈 제거"
   ]
  },
  {
   "cell_type": "code",
   "execution_count": 7,
   "id": "b002367e",
   "metadata": {},
   "outputs": [],
   "source": [
    "import pandas as pd\n",
    "import numpy as np\n",
    "import seaborn as sns\n",
    "from tqdm import tqdm\n",
    "import matplotlib.pyplot as plt"
   ]
  },
  {
   "cell_type": "code",
   "execution_count": 8,
   "id": "a368c2de",
   "metadata": {},
   "outputs": [
    {
     "data": {
      "text/html": [
       "<div>\n",
       "<style scoped>\n",
       "    .dataframe tbody tr th:only-of-type {\n",
       "        vertical-align: middle;\n",
       "    }\n",
       "\n",
       "    .dataframe tbody tr th {\n",
       "        vertical-align: top;\n",
       "    }\n",
       "\n",
       "    .dataframe thead th {\n",
       "        text-align: right;\n",
       "    }\n",
       "</style>\n",
       "<table border=\"1\" class=\"dataframe\">\n",
       "  <thead>\n",
       "    <tr style=\"text-align: right;\">\n",
       "      <th></th>\n",
       "      <th>store_id</th>\n",
       "      <th>card_id</th>\n",
       "      <th>card_company</th>\n",
       "      <th>transacted_date</th>\n",
       "      <th>transacted_time</th>\n",
       "      <th>installment_term</th>\n",
       "      <th>region</th>\n",
       "      <th>type_of_business</th>\n",
       "      <th>amount</th>\n",
       "    </tr>\n",
       "  </thead>\n",
       "  <tbody>\n",
       "    <tr>\n",
       "      <th>0</th>\n",
       "      <td>0</td>\n",
       "      <td>0</td>\n",
       "      <td>b</td>\n",
       "      <td>2016-06-01</td>\n",
       "      <td>13:13</td>\n",
       "      <td>0</td>\n",
       "      <td>NaN</td>\n",
       "      <td>기타 미용업</td>\n",
       "      <td>1857.142857</td>\n",
       "    </tr>\n",
       "    <tr>\n",
       "      <th>1</th>\n",
       "      <td>0</td>\n",
       "      <td>1</td>\n",
       "      <td>h</td>\n",
       "      <td>2016-06-01</td>\n",
       "      <td>18:12</td>\n",
       "      <td>0</td>\n",
       "      <td>NaN</td>\n",
       "      <td>기타 미용업</td>\n",
       "      <td>857.142857</td>\n",
       "    </tr>\n",
       "    <tr>\n",
       "      <th>2</th>\n",
       "      <td>0</td>\n",
       "      <td>2</td>\n",
       "      <td>c</td>\n",
       "      <td>2016-06-01</td>\n",
       "      <td>18:52</td>\n",
       "      <td>0</td>\n",
       "      <td>NaN</td>\n",
       "      <td>기타 미용업</td>\n",
       "      <td>2000.000000</td>\n",
       "    </tr>\n",
       "    <tr>\n",
       "      <th>3</th>\n",
       "      <td>0</td>\n",
       "      <td>3</td>\n",
       "      <td>a</td>\n",
       "      <td>2016-06-01</td>\n",
       "      <td>20:22</td>\n",
       "      <td>0</td>\n",
       "      <td>NaN</td>\n",
       "      <td>기타 미용업</td>\n",
       "      <td>7857.142857</td>\n",
       "    </tr>\n",
       "    <tr>\n",
       "      <th>4</th>\n",
       "      <td>0</td>\n",
       "      <td>4</td>\n",
       "      <td>c</td>\n",
       "      <td>2016-06-02</td>\n",
       "      <td>11:06</td>\n",
       "      <td>0</td>\n",
       "      <td>NaN</td>\n",
       "      <td>기타 미용업</td>\n",
       "      <td>2000.000000</td>\n",
       "    </tr>\n",
       "  </tbody>\n",
       "</table>\n",
       "</div>"
      ],
      "text/plain": [
       "   store_id  card_id card_company transacted_date transacted_time  \\\n",
       "0         0        0            b      2016-06-01           13:13   \n",
       "1         0        1            h      2016-06-01           18:12   \n",
       "2         0        2            c      2016-06-01           18:52   \n",
       "3         0        3            a      2016-06-01           20:22   \n",
       "4         0        4            c      2016-06-02           11:06   \n",
       "\n",
       "   installment_term region type_of_business       amount  \n",
       "0                 0    NaN           기타 미용업  1857.142857  \n",
       "1                 0    NaN           기타 미용업   857.142857  \n",
       "2                 0    NaN           기타 미용업  2000.000000  \n",
       "3                 0    NaN           기타 미용업  7857.142857  \n",
       "4                 0    NaN           기타 미용업  2000.000000  "
      ]
     },
     "execution_count": 8,
     "metadata": {},
     "output_type": "execute_result"
    }
   ],
   "source": [
    "train.head()"
   ]
  },
  {
   "cell_type": "code",
   "execution_count": 9,
   "id": "90c10cb9",
   "metadata": {},
   "outputs": [
    {
     "data": {
      "text/plain": [
       "([0, 1, 2, 3, 4, 5, 6, 7, 8],\n",
       " [Text(0, 0, ''),\n",
       "  Text(0, 0, ''),\n",
       "  Text(0, 0, ''),\n",
       "  Text(0, 0, ''),\n",
       "  Text(0, 0, ''),\n",
       "  Text(0, 0, ''),\n",
       "  Text(0, 0, ''),\n",
       "  Text(0, 0, ''),\n",
       "  Text(0, 0, '')])"
      ]
     },
     "execution_count": 9,
     "metadata": {},
     "output_type": "execute_result"
    },
    {
     "data": {
      "image/png": "[encoded data removed]",
      "text/plain": [
       "<Figure size 936x288 with 1 Axes>"
      ]
     },
     "metadata": {
      "needs_background": "light"
     },
     "output_type": "display_data"
    }
   ],
   "source": [
    "#그래프로 결측치 확인\n",
    "plt.figure(figsize=(13,4))\n",
    "plt.bar(train.columns, train.isnull().sum())\n",
    "plt.xticks(rotation=45)"
   ]
  },
  {
   "cell_type": "code",
   "execution_count": 10,
   "id": "980b7010",
   "metadata": {},
   "outputs": [
    {
     "data": {
      "text/html": [
       "<div>\n",
       "<style scoped>\n",
       "    .dataframe tbody tr th:only-of-type {\n",
       "        vertical-align: middle;\n",
       "    }\n",
       "\n",
       "    .dataframe tbody tr th {\n",
       "        vertical-align: top;\n",
       "    }\n",
       "\n",
       "    .dataframe thead th {\n",
       "        text-align: right;\n",
       "    }\n",
       "</style>\n",
       "<table border=\"1\" class=\"dataframe\">\n",
       "  <thead>\n",
       "    <tr style=\"text-align: right;\">\n",
       "      <th></th>\n",
       "      <th>store_id</th>\n",
       "      <th>card_id</th>\n",
       "      <th>card_company</th>\n",
       "      <th>transacted_date</th>\n",
       "      <th>transacted_time</th>\n",
       "      <th>installment_term</th>\n",
       "      <th>amount</th>\n",
       "    </tr>\n",
       "  </thead>\n",
       "  <tbody>\n",
       "    <tr>\n",
       "      <th>0</th>\n",
       "      <td>0</td>\n",
       "      <td>0</td>\n",
       "      <td>b</td>\n",
       "      <td>2016-06-01</td>\n",
       "      <td>13:13</td>\n",
       "      <td>0</td>\n",
       "      <td>1857.142857</td>\n",
       "    </tr>\n",
       "    <tr>\n",
       "      <th>1</th>\n",
       "      <td>0</td>\n",
       "      <td>1</td>\n",
       "      <td>h</td>\n",
       "      <td>2016-06-01</td>\n",
       "      <td>18:12</td>\n",
       "      <td>0</td>\n",
       "      <td>857.142857</td>\n",
       "    </tr>\n",
       "    <tr>\n",
       "      <th>2</th>\n",
       "      <td>0</td>\n",
       "      <td>2</td>\n",
       "      <td>c</td>\n",
       "      <td>2016-06-01</td>\n",
       "      <td>18:52</td>\n",
       "      <td>0</td>\n",
       "      <td>2000.000000</td>\n",
       "    </tr>\n",
       "    <tr>\n",
       "      <th>3</th>\n",
       "      <td>0</td>\n",
       "      <td>3</td>\n",
       "      <td>a</td>\n",
       "      <td>2016-06-01</td>\n",
       "      <td>20:22</td>\n",
       "      <td>0</td>\n",
       "      <td>7857.142857</td>\n",
       "    </tr>\n",
       "    <tr>\n",
       "      <th>4</th>\n",
       "      <td>0</td>\n",
       "      <td>4</td>\n",
       "      <td>c</td>\n",
       "      <td>2016-06-02</td>\n",
       "      <td>11:06</td>\n",
       "      <td>0</td>\n",
       "      <td>2000.000000</td>\n",
       "    </tr>\n",
       "  </tbody>\n",
       "</table>\n",
       "</div>"
      ],
      "text/plain": [
       "   store_id  card_id card_company transacted_date transacted_time  \\\n",
       "0         0        0            b      2016-06-01           13:13   \n",
       "1         0        1            h      2016-06-01           18:12   \n",
       "2         0        2            c      2016-06-01           18:52   \n",
       "3         0        3            a      2016-06-01           20:22   \n",
       "4         0        4            c      2016-06-02           11:06   \n",
       "\n",
       "   installment_term       amount  \n",
       "0                 0  1857.142857  \n",
       "1                 0   857.142857  \n",
       "2                 0  2000.000000  \n",
       "3                 0  7857.142857  \n",
       "4                 0  2000.000000  "
      ]
     },
     "execution_count": 10,
     "metadata": {},
     "output_type": "execute_result"
    }
   ],
   "source": [
    "#대치 지역과 업종 열 제거 \n",
    "train = train.drop(['region', 'type_of_business'], axis=1)\n",
    "train.head()"
   ]
  },
  {
   "cell_type": "code",
   "execution_count": 11,
   "id": "5f80f810",
   "metadata": {},
   "outputs": [
    {
     "data": {
      "text/plain": [
       "<AxesSubplot:xlabel='amount'>"
      ]
     },
     "execution_count": 11,
     "metadata": {},
     "output_type": "execute_result"
    },
    {
     "data": {
      "image/png": "[encoded data removed]",
      "text/plain": [
       "<Figure size 576x288 with 1 Axes>"
      ]
     },
     "metadata": {
      "needs_background": "light"
     },
     "output_type": "display_data"
    }
   ],
   "source": [
    "#매출액(amount) 변수에 대한 이상치 탐색\n",
    "#상자 그림\n",
    "plt.figure(figsize=(8,4))\n",
    "sns.boxplot(train['amount'])"
   ]
  },
  {
   "cell_type": "code",
   "execution_count": 12,
   "id": "2e182578",
   "metadata": {},
   "outputs": [
    {
     "data": {
      "text/html": [
       "<div>\n",
       "<style scoped>\n",
       "    .dataframe tbody tr th:only-of-type {\n",
       "        vertical-align: middle;\n",
       "    }\n",
       "\n",
       "    .dataframe tbody tr th {\n",
       "        vertical-align: top;\n",
       "    }\n",
       "\n",
       "    .dataframe thead th {\n",
       "        text-align: right;\n",
       "    }\n",
       "</style>\n",
       "<table border=\"1\" class=\"dataframe\">\n",
       "  <thead>\n",
       "    <tr style=\"text-align: right;\">\n",
       "      <th></th>\n",
       "      <th>store_id</th>\n",
       "      <th>card_id</th>\n",
       "      <th>card_company</th>\n",
       "      <th>transacted_date</th>\n",
       "      <th>transacted_time</th>\n",
       "      <th>installment_term</th>\n",
       "      <th>amount</th>\n",
       "    </tr>\n",
       "  </thead>\n",
       "  <tbody>\n",
       "    <tr>\n",
       "      <th>41</th>\n",
       "      <td>0</td>\n",
       "      <td>40</td>\n",
       "      <td>a</td>\n",
       "      <td>2016-06-10</td>\n",
       "      <td>17:26</td>\n",
       "      <td>2</td>\n",
       "      <td>-8571.428571</td>\n",
       "    </tr>\n",
       "    <tr>\n",
       "      <th>347</th>\n",
       "      <td>0</td>\n",
       "      <td>285</td>\n",
       "      <td>a</td>\n",
       "      <td>2016-08-04</td>\n",
       "      <td>17:52</td>\n",
       "      <td>0</td>\n",
       "      <td>-1857.142857</td>\n",
       "    </tr>\n",
       "    <tr>\n",
       "      <th>731</th>\n",
       "      <td>0</td>\n",
       "      <td>473</td>\n",
       "      <td>g</td>\n",
       "      <td>2016-10-17</td>\n",
       "      <td>10:32</td>\n",
       "      <td>0</td>\n",
       "      <td>-2000.000000</td>\n",
       "    </tr>\n",
       "    <tr>\n",
       "      <th>831</th>\n",
       "      <td>0</td>\n",
       "      <td>230</td>\n",
       "      <td>b</td>\n",
       "      <td>2016-11-03</td>\n",
       "      <td>15:36</td>\n",
       "      <td>0</td>\n",
       "      <td>-85.714286</td>\n",
       "    </tr>\n",
       "    <tr>\n",
       "      <th>944</th>\n",
       "      <td>0</td>\n",
       "      <td>138</td>\n",
       "      <td>a</td>\n",
       "      <td>2016-11-28</td>\n",
       "      <td>13:21</td>\n",
       "      <td>0</td>\n",
       "      <td>-57.142857</td>\n",
       "    </tr>\n",
       "  </tbody>\n",
       "</table>\n",
       "</div>"
      ],
      "text/plain": [
       "     store_id  card_id card_company transacted_date transacted_time  \\\n",
       "41          0       40            a      2016-06-10           17:26   \n",
       "347         0      285            a      2016-08-04           17:52   \n",
       "731         0      473            g      2016-10-17           10:32   \n",
       "831         0      230            b      2016-11-03           15:36   \n",
       "944         0      138            a      2016-11-28           13:21   \n",
       "\n",
       "     installment_term       amount  \n",
       "41                  2 -8571.428571  \n",
       "347                 0 -1857.142857  \n",
       "731                 0 -2000.000000  \n",
       "831                 0   -85.714286  \n",
       "944                 0   -57.142857  "
      ]
     },
     "execution_count": 12,
     "metadata": {},
     "output_type": "execute_result"
    }
   ],
   "source": [
    "#매출액이 음수 인 행\n",
    "train[train['amount']<0].head()"
   ]
  },
  {
   "cell_type": "code",
   "execution_count": 13,
   "id": "1bc4b140",
   "metadata": {},
   "outputs": [],
   "source": [
    "#환불 거래 제거 함수\n",
    "\n",
    "#거래일과 거래시간을 합친 변수 생성\n",
    "train['datetime'] = pd.to_datetime(train.transacted_date + \" \" + train.transacted_time, format='%Y-%m-%d %H:%M:%S')"
   ]
  },
  {
   "cell_type": "code",
   "execution_count": 14,
   "id": "ae76e8ed",
   "metadata": {},
   "outputs": [],
   "source": [
    "#환불거래를 제거하는 함수 정의\n",
    "def remove_refund(df):\n",
    "    refund = df[df['amount']<0] #매출액이 음수인 데이터 추출\n",
    "    non_refund = df[df['amount']>0] #매출액이 양수인 데이터 추출\n",
    "    \n",
    "    removed_data = pd.DataFrame()\n",
    "    \n",
    "    for i in tqdm(df.store_id.unique()):\n",
    "        #매출액이 양수인 데이터를 상점별로 나눔\n",
    "        divided_data = non_refund[non_refund['store_id']==i]\n",
    "        #매출액이 음수인 데이터를 상점별로 나눔\n",
    "        divided_data2 = refund[refund['store_id']==i]\n",
    "        \n",
    "        for neg in divided_data2.to_records()[:]: #환불 데이터를 차례대로 검사 \n",
    "            refund_store = neg['store_id']\n",
    "            refund_id = neg['card_id'] #환불카드 아이디를 추출함\n",
    "            refund_datetime = neg['datetime'] #환불 시간을 추출함\n",
    "            refund_amount = abs(neg['amount']) # 매출 음수값의 절댓값을 구함\n",
    "            \n",
    "            #환불 시간 이전의 데이터 중 카드 아이디와 환불액이 같은 후보 리스트 추출\n",
    "            refund_pay_list = divided_data[divided_data['datetime']<=refund_datetime]\n",
    "            refund_pay_list = refund_pay_list[refund_pay_list['card_id'] == refund_id]\n",
    "            refund_pay_list = refund_pay_list[refund_pay_list['amount'] == refund_amount]\n",
    "            \n",
    "            #후보리스트에서 카드 아이디, 환불액이 같으면서 가장 최근 시간을 제거 \n",
    "            if len(refund_pay_list) != 0:\n",
    "                #가장 최근 시간을 구함\n",
    "                refund_datetime = max(refund_pay_list['datetime'])\n",
    "                #가장 최근 시간\n",
    "                noise_list = divided_data[divided_data['datetime'] == refund_datetime]\n",
    "                #환불카드 아이디\n",
    "                noise_list = noise_list[noise_list['card_id']==refund_id]\n",
    "                #환불액\n",
    "                noise_list = noise_list[noise_list['amount']==refund_amount]\n",
    "                #인덱스를 통해 제거 \n",
    "                divided_data = divided_data.drop(index=noise_list.index)\n",
    "                \n",
    "        removed_data = pd.concat([removed_data, divided_data], axis=0)\n",
    "        \n",
    "    return removed_data"
   ]
  },
  {
   "cell_type": "code",
   "execution_count": 15,
   "id": "9788cf91",
   "metadata": {},
   "outputs": [
    {
     "name": "stderr",
     "output_type": "stream",
     "text": [
      "100%|██████████████████████████████████████████████████████████████████████████████| 1967/1967 [18:45<00:00,  1.75it/s]\n"
     ]
    },
    {
     "data": {
      "text/plain": [
       "<AxesSubplot:xlabel='amount'>"
      ]
     },
     "execution_count": 15,
     "metadata": {},
     "output_type": "execute_result"
    },
    {
     "data": {
      "image/png": "[encoded data removed]",
      "text/plain": [
       "<Figure size 576x288 with 1 Axes>"
      ]
     },
     "metadata": {
      "needs_background": "light"
     },
     "output_type": "display_data"
    }
   ],
   "source": [
    "#환불거래 거래 제거 결과 \n",
    "positive_data = remove_refund(train)\n",
    "plt.figure(figsize=(8,4))\n",
    "sns.boxplot(positive_data['amount'])"
   ]
  },
  {
   "cell_type": "markdown",
   "id": "535c18e6",
   "metadata": {},
   "source": [
    "## 다운 샘플링"
   ]
  },
  {
   "cell_type": "code",
   "execution_count": 16,
   "id": "74d3b66e",
   "metadata": {},
   "outputs": [
    {
     "data": {
      "text/html": [
       "<div>\n",
       "<style scoped>\n",
       "    .dataframe tbody tr th:only-of-type {\n",
       "        vertical-align: middle;\n",
       "    }\n",
       "\n",
       "    .dataframe tbody tr th {\n",
       "        vertical-align: top;\n",
       "    }\n",
       "\n",
       "    .dataframe thead th {\n",
       "        text-align: right;\n",
       "    }\n",
       "</style>\n",
       "<table border=\"1\" class=\"dataframe\">\n",
       "  <thead>\n",
       "    <tr style=\"text-align: right;\">\n",
       "      <th></th>\n",
       "      <th>store_id</th>\n",
       "      <th>card_id</th>\n",
       "      <th>card_company</th>\n",
       "      <th>transacted_date</th>\n",
       "      <th>transacted_time</th>\n",
       "      <th>installment_term</th>\n",
       "      <th>amount</th>\n",
       "      <th>datetime</th>\n",
       "    </tr>\n",
       "  </thead>\n",
       "  <tbody>\n",
       "    <tr>\n",
       "      <th>0</th>\n",
       "      <td>0</td>\n",
       "      <td>0</td>\n",
       "      <td>b</td>\n",
       "      <td>2016-06-01</td>\n",
       "      <td>13:13</td>\n",
       "      <td>0</td>\n",
       "      <td>1857.142857</td>\n",
       "      <td>2016-06-01 13:13:00</td>\n",
       "    </tr>\n",
       "    <tr>\n",
       "      <th>1</th>\n",
       "      <td>0</td>\n",
       "      <td>1</td>\n",
       "      <td>h</td>\n",
       "      <td>2016-06-01</td>\n",
       "      <td>18:12</td>\n",
       "      <td>0</td>\n",
       "      <td>857.142857</td>\n",
       "      <td>2016-06-01 18:12:00</td>\n",
       "    </tr>\n",
       "    <tr>\n",
       "      <th>2</th>\n",
       "      <td>0</td>\n",
       "      <td>2</td>\n",
       "      <td>c</td>\n",
       "      <td>2016-06-01</td>\n",
       "      <td>18:52</td>\n",
       "      <td>0</td>\n",
       "      <td>2000.000000</td>\n",
       "      <td>2016-06-01 18:52:00</td>\n",
       "    </tr>\n",
       "    <tr>\n",
       "      <th>3</th>\n",
       "      <td>0</td>\n",
       "      <td>3</td>\n",
       "      <td>a</td>\n",
       "      <td>2016-06-01</td>\n",
       "      <td>20:22</td>\n",
       "      <td>0</td>\n",
       "      <td>7857.142857</td>\n",
       "      <td>2016-06-01 20:22:00</td>\n",
       "    </tr>\n",
       "    <tr>\n",
       "      <th>4</th>\n",
       "      <td>0</td>\n",
       "      <td>4</td>\n",
       "      <td>c</td>\n",
       "      <td>2016-06-02</td>\n",
       "      <td>11:06</td>\n",
       "      <td>0</td>\n",
       "      <td>2000.000000</td>\n",
       "      <td>2016-06-02 11:06:00</td>\n",
       "    </tr>\n",
       "  </tbody>\n",
       "</table>\n",
       "</div>"
      ],
      "text/plain": [
       "   store_id  card_id card_company transacted_date transacted_time  \\\n",
       "0         0        0            b      2016-06-01           13:13   \n",
       "1         0        1            h      2016-06-01           18:12   \n",
       "2         0        2            c      2016-06-01           18:52   \n",
       "3         0        3            a      2016-06-01           20:22   \n",
       "4         0        4            c      2016-06-02           11:06   \n",
       "\n",
       "   installment_term       amount            datetime  \n",
       "0                 0  1857.142857 2016-06-01 13:13:00  \n",
       "1                 0   857.142857 2016-06-01 18:12:00  \n",
       "2                 0  2000.000000 2016-06-01 18:52:00  \n",
       "3                 0  7857.142857 2016-06-01 20:22:00  \n",
       "4                 0  2000.000000 2016-06-02 11:06:00  "
      ]
     },
     "execution_count": 16,
     "metadata": {},
     "output_type": "execute_result"
    }
   ],
   "source": [
    "#데이터의 시간 간격 확인\n",
    "positive_data.head()"
   ]
  },
  {
   "cell_type": "code",
   "execution_count": 21,
   "id": "78054cda",
   "metadata": {},
   "outputs": [],
   "source": [
    "#월 단위 다운 샘플링 함수 \n",
    "##월 단위 다운 샘플링 함수를 정의\n",
    "def month_resampling(df):\n",
    "    new_data = pd.DataFrame()\n",
    "    #년도와 월을 합친 변수 생성\n",
    "    df['year_month'] = df['transacted_date'].str.slice(stop=7)\n",
    "    #데이터의 전체 기간을 출력\n",
    "    year_month = df['year_month'].drop_duplicates()\n",
    "    #상점 아이디별로 월 단위 매출액 총합을 구함\n",
    "    downsampling_data = df.groupby(['store_id', 'year_month']).amount.sum()\n",
    "    downsampling_data = pd.DataFrame(downsampling_data)\n",
    "    downsampling_data = downsampling_data.reset_index(drop=False,inplace=False)\n",
    "    \n",
    "    for i in tqdm(df.store_id.unique()):\n",
    "        # 상점별로 데이터를 처리합니다.\n",
    "        store = downsampling_data[downsampling_data['store_id']==i]\n",
    "        # 각 상점의 처음 매출이 발생한 월을 구합니다.\n",
    "        start_time = min(store['year_month'])\n",
    "        # 모든 상점을 전체 기간 데이터로 만듭니다.\n",
    "        store = store.merge(year_month,how='outer')\n",
    "        # 데이터를 시간순으로 정렬합니다.\n",
    "        store = store.sort_values(by=['year_month'], axis=0, ascending=True) \n",
    "        store['amount'] = store['amount'].fillna(2)   # 매출이 발생하지 않는 월은 2로 채웁니다.\n",
    "        store['store_id'] = store['store_id'].fillna(i)  # 상점 아이디 결측치를 채웁니다.\n",
    "        store = store[store['year_month']>=start_time]  # 처음 매출이 발생한 월 이후만 뽑습니다.\n",
    "        \n",
    "        new_data = pd.concat([new_data,store],axis=0)\n",
    "        \n",
    "    return new_data"
   ]
  },
  {
   "cell_type": "code",
   "execution_count": 22,
   "id": "6de0bb1f",
   "metadata": {},
   "outputs": [
    {
     "name": "stderr",
     "output_type": "stream",
     "text": [
      "100%|██████████████████████████████████████████████████████████████████████████████| 1967/1967 [00:23<00:00, 83.68it/s]\n"
     ]
    },
    {
     "data": {
      "text/html": [
       "<div>\n",
       "<style scoped>\n",
       "    .dataframe tbody tr th:only-of-type {\n",
       "        vertical-align: middle;\n",
       "    }\n",
       "\n",
       "    .dataframe tbody tr th {\n",
       "        vertical-align: top;\n",
       "    }\n",
       "\n",
       "    .dataframe thead th {\n",
       "        text-align: right;\n",
       "    }\n",
       "</style>\n",
       "<table border=\"1\" class=\"dataframe\">\n",
       "  <thead>\n",
       "    <tr style=\"text-align: right;\">\n",
       "      <th></th>\n",
       "      <th>store_id</th>\n",
       "      <th>year_month</th>\n",
       "      <th>amount</th>\n",
       "    </tr>\n",
       "  </thead>\n",
       "  <tbody>\n",
       "    <tr>\n",
       "      <th>0</th>\n",
       "      <td>0</td>\n",
       "      <td>2016-06</td>\n",
       "      <td>7.470000e+05</td>\n",
       "    </tr>\n",
       "    <tr>\n",
       "      <th>1</th>\n",
       "      <td>0</td>\n",
       "      <td>2016-07</td>\n",
       "      <td>1.005000e+06</td>\n",
       "    </tr>\n",
       "    <tr>\n",
       "      <th>2</th>\n",
       "      <td>0</td>\n",
       "      <td>2016-08</td>\n",
       "      <td>8.697143e+05</td>\n",
       "    </tr>\n",
       "    <tr>\n",
       "      <th>3</th>\n",
       "      <td>0</td>\n",
       "      <td>2016-09</td>\n",
       "      <td>8.978571e+05</td>\n",
       "    </tr>\n",
       "    <tr>\n",
       "      <th>4</th>\n",
       "      <td>0</td>\n",
       "      <td>2016-10</td>\n",
       "      <td>8.354286e+05</td>\n",
       "    </tr>\n",
       "    <tr>\n",
       "      <th>...</th>\n",
       "      <td>...</td>\n",
       "      <td>...</td>\n",
       "      <td>...</td>\n",
       "    </tr>\n",
       "    <tr>\n",
       "      <th>17</th>\n",
       "      <td>2136</td>\n",
       "      <td>2018-10</td>\n",
       "      <td>2.012214e+06</td>\n",
       "    </tr>\n",
       "    <tr>\n",
       "      <th>18</th>\n",
       "      <td>2136</td>\n",
       "      <td>2018-11</td>\n",
       "      <td>2.127643e+06</td>\n",
       "    </tr>\n",
       "    <tr>\n",
       "      <th>19</th>\n",
       "      <td>2136</td>\n",
       "      <td>2018-12</td>\n",
       "      <td>2.427429e+06</td>\n",
       "    </tr>\n",
       "    <tr>\n",
       "      <th>20</th>\n",
       "      <td>2136</td>\n",
       "      <td>2019-01</td>\n",
       "      <td>1.867786e+06</td>\n",
       "    </tr>\n",
       "    <tr>\n",
       "      <th>21</th>\n",
       "      <td>2136</td>\n",
       "      <td>2019-02</td>\n",
       "      <td>2.227429e+06</td>\n",
       "    </tr>\n",
       "  </tbody>\n",
       "</table>\n",
       "<p>60982 rows × 3 columns</p>\n",
       "</div>"
      ],
      "text/plain": [
       "    store_id year_month        amount\n",
       "0          0    2016-06  7.470000e+05\n",
       "1          0    2016-07  1.005000e+06\n",
       "2          0    2016-08  8.697143e+05\n",
       "3          0    2016-09  8.978571e+05\n",
       "4          0    2016-10  8.354286e+05\n",
       "..       ...        ...           ...\n",
       "17      2136    2018-10  2.012214e+06\n",
       "18      2136    2018-11  2.127643e+06\n",
       "19      2136    2018-12  2.427429e+06\n",
       "20      2136    2019-01  1.867786e+06\n",
       "21      2136    2019-02  2.227429e+06\n",
       "\n",
       "[60982 rows x 3 columns]"
      ]
     },
     "execution_count": 22,
     "metadata": {},
     "output_type": "execute_result"
    }
   ],
   "source": [
    "# 환불 제거 데이터를 월 단위로 다운 샘플링합니다.\n",
    "resampling_data = month_resampling(positive_data)\n",
    "resampling_data['store_id'] = resampling_data['store_id'].astype(int)\n",
    "resampling_data"
   ]
  },
  {
   "cell_type": "markdown",
   "id": "0cf89da5",
   "metadata": {},
   "source": [
    "# 날짜 지정 범위 생성과 시리즈 객체 변환"
   ]
  },
  {
   "cell_type": "code",
   "execution_count": 23,
   "id": "dfc32192",
   "metadata": {},
   "outputs": [
    {
     "name": "stdout",
     "output_type": "stream",
     "text": [
      "<class 'pandas.core.frame.DataFrame'>\n"
     ]
    }
   ],
   "source": [
    "#데이터 타입 출력\n",
    "print(type(resampling_data))"
   ]
  },
  {
   "cell_type": "code",
   "execution_count": 26,
   "id": "e838badc",
   "metadata": {},
   "outputs": [],
   "source": [
    "#데이터 프레임을 series로 변환하는 함수 \n",
    "def time_series(df, i):\n",
    "    #상점별로 데이터를 뽑는다. \n",
    "    store = df[df['store_id']==i]\n",
    "    #날짜 지정 범위는 영업시작 월부터 2019년 3월 전까지 영업 마감일 기준\n",
    "    index = pd.date_range(min(store['year_month']), '2019-03', freq ='BM')\n",
    "    #시리즈 객체로 변환\n",
    "    ts = pd.Series(store['amount'].values, index=index)\n",
    "    return ts\n"
   ]
  },
  {
   "cell_type": "code",
   "execution_count": 29,
   "id": "f06f1c4b",
   "metadata": {},
   "outputs": [
    {
     "data": {
      "text/plain": [
       "2016-06-30    7.470000e+05\n",
       "2016-07-29    1.005000e+06\n",
       "2016-08-31    8.697143e+05\n",
       "2016-09-30    8.978571e+05\n",
       "2016-10-31    8.354286e+05\n",
       "2016-11-30    6.970000e+05\n",
       "2016-12-30    7.618571e+05\n",
       "2017-01-31    5.856429e+05\n",
       "2017-02-28    7.940000e+05\n",
       "2017-03-31    7.202571e+05\n",
       "2017-04-28    6.852857e+05\n",
       "2017-05-31    7.444286e+05\n",
       "2017-06-30    6.820000e+05\n",
       "2017-07-31    7.282857e+05\n",
       "2017-08-31    7.490000e+05\n",
       "2017-09-29    8.408571e+05\n",
       "2017-10-31    6.005714e+05\n",
       "2017-11-30    6.308571e+05\n",
       "2017-12-29    8.127143e+05\n",
       "2018-01-31    6.431429e+05\n",
       "2018-02-28    6.852857e+05\n",
       "2018-03-30    8.484286e+05\n",
       "2018-04-30    6.361429e+05\n",
       "2018-05-31    6.864286e+05\n",
       "2018-06-29    7.072857e+05\n",
       "2018-07-31    7.587143e+05\n",
       "2018-08-31    6.798571e+05\n",
       "2018-09-28    6.518571e+05\n",
       "2018-10-31    7.390000e+05\n",
       "2018-11-30    6.760000e+05\n",
       "2018-12-31    8.745714e+05\n",
       "2019-01-31    6.828571e+05\n",
       "2019-02-28    5.152857e+05\n",
       "Freq: BM, dtype: float64"
      ]
     },
     "execution_count": 29,
     "metadata": {},
     "output_type": "execute_result"
    }
   ],
   "source": [
    "#상점 아이디가 0번인 데이터를 시리즈 객체로 변환\n",
    "store_0 = time_series(resampling_data, 0)\n",
    "store_0"
   ]
  },
  {
   "cell_type": "code",
   "execution_count": 30,
   "id": "55824fbd",
   "metadata": {},
   "outputs": [
    {
     "name": "stdout",
     "output_type": "stream",
     "text": [
      "<class 'pandas.core.series.Series'>\n"
     ]
    }
   ],
   "source": [
    "#상점 아이디 1번의 시리즈 객체 \n",
    "#데이터 타입을 출력\n",
    "store_1 = time_series(resampling_data, 1)\n",
    "print(type(store_1))"
   ]
  },
  {
   "cell_type": "code",
   "execution_count": 31,
   "id": "8e869c35",
   "metadata": {},
   "outputs": [
    {
     "data": {
      "text/plain": [
       "<AxesSubplot:>"
      ]
     },
     "execution_count": 31,
     "metadata": {},
     "output_type": "execute_result"
    },
    {
     "data": {
      "image/png": "[encoded data removed]",
      "text/plain": [
       "<Figure size 432x288 with 1 Axes>"
      ]
     },
     "metadata": {
      "needs_background": "light"
     },
     "output_type": "display_data"
    }
   ],
   "source": [
    "#상점 아이디 2번의 시계열 그래프 \n",
    "store_2 = time_series(resampling_data, 2)\n",
    "store_2.plot()"
   ]
  },
  {
   "cell_type": "markdown",
   "id": "60a0d3e9",
   "metadata": {},
   "source": [
    "# 탐색적 데이터 분석"
   ]
  },
  {
   "cell_type": "markdown",
   "id": "1bbed4f6",
   "metadata": {},
   "source": [
    "상점별 매출특성"
   ]
  },
  {
   "cell_type": "markdown",
   "id": "8ca901e0",
   "metadata": {},
   "source": [
    "## 계절성이 있는 상점"
   ]
  },
  {
   "cell_type": "code",
   "execution_count": 32,
   "id": "62d791fb",
   "metadata": {},
   "outputs": [
    {
     "data": {
      "text/plain": [
       "2016-06-30    4.891857e+05\n",
       "2016-07-29    1.595280e+06\n",
       "2016-08-31    1.518714e+06\n",
       "2016-09-30    3.369143e+05\n",
       "2016-10-31    4.245714e+05\n",
       "2016-11-30    2.000000e+00\n",
       "2016-12-30    2.000000e+00\n",
       "2017-01-31    2.000000e+00\n",
       "2017-02-28    2.000000e+00\n",
       "2017-03-31    2.000000e+00\n",
       "2017-04-28    3.928571e+04\n",
       "2017-05-31    1.557286e+05\n",
       "2017-06-30    5.481143e+05\n",
       "2017-07-31    7.359286e+05\n",
       "2017-08-31    7.909700e+05\n",
       "2017-09-29    6.191429e+04\n",
       "2017-10-31    1.027143e+06\n",
       "2017-11-30    2.000000e+00\n",
       "2017-12-29    2.000000e+00\n",
       "2018-01-31    2.000000e+00\n",
       "2018-02-28    2.000000e+00\n",
       "2018-03-30    2.000000e+00\n",
       "2018-04-30    2.000000e+00\n",
       "2018-05-31    2.493857e+05\n",
       "2018-06-29    4.822286e+05\n",
       "2018-07-31    8.999714e+05\n",
       "2018-08-31    1.645877e+06\n",
       "2018-09-28    2.767857e+05\n",
       "2018-10-31    2.000000e+00\n",
       "2018-11-30    2.000000e+00\n",
       "2018-12-31    2.000000e+00\n",
       "2019-01-31    2.000000e+00\n",
       "2019-02-28    2.000000e+00\n",
       "Freq: BM, dtype: float64"
      ]
     },
     "execution_count": 32,
     "metadata": {},
     "output_type": "execute_result"
    }
   ],
   "source": [
    "#대표적인 계설정 특성을 지닌 257번 \n",
    "#상점 아이디가 257번인 데이터를 시리즈 객체로 데이터 출력\n",
    "store_257 = time_series(resampling_data, 257)\n",
    "store_257"
   ]
  },
  {
   "cell_type": "code",
   "execution_count": 34,
   "id": "7e42ebed",
   "metadata": {},
   "outputs": [
    {
     "data": {
      "image/png": "[encoded data removed]",
      "text/plain": [
       "<Figure size 972x360 with 1 Axes>"
      ]
     },
     "metadata": {
      "needs_background": "light"
     },
     "output_type": "display_data"
    }
   ],
   "source": [
    "#시계열 그래프 그리기\n",
    "store_plot_257 = store_257.plot()\n",
    "fig = store_plot_257.get_figure()\n",
    "fig.set_size_inches(13.5,5)"
   ]
  },
  {
   "cell_type": "code",
   "execution_count": 35,
   "id": "9bb29521",
   "metadata": {},
   "outputs": [
    {
     "data": {
      "text/plain": [
       "2016-07-29    5.075429e+04\n",
       "2016-08-31    9.219543e+05\n",
       "2016-09-30    4.720786e+05\n",
       "2016-10-31    5.145714e+05\n",
       "2016-11-30    1.494286e+05\n",
       "2016-12-30    1.071686e+06\n",
       "2017-01-31    1.602857e+06\n",
       "2017-02-28    1.332143e+06\n",
       "2017-03-31    2.432143e+05\n",
       "2017-04-28    3.903143e+06\n",
       "2017-05-31    1.729500e+06\n",
       "2017-06-30    4.280214e+06\n",
       "2017-07-31    1.775714e+06\n",
       "2017-08-31    7.428571e+05\n",
       "2017-09-29    1.415714e+06\n",
       "2017-10-31    1.180714e+06\n",
       "2017-11-30    4.640000e+05\n",
       "2017-12-29    1.389729e+06\n",
       "2018-01-31    2.000000e+00\n",
       "2018-02-28    8.285714e+05\n",
       "2018-03-30    7.857143e+05\n",
       "2018-04-30    6.670429e+06\n",
       "2018-05-31    1.837286e+05\n",
       "2018-06-29    3.285714e+06\n",
       "2018-07-31    9.502857e+05\n",
       "2018-08-31    3.675200e+06\n",
       "2018-09-28    1.793886e+06\n",
       "2018-10-31    4.717743e+06\n",
       "2018-11-30    7.593600e+06\n",
       "2018-12-31    1.428571e+06\n",
       "2019-01-31    4.285714e+05\n",
       "2019-02-28    1.428571e+06\n",
       "Freq: BM, dtype: float64"
      ]
     },
     "execution_count": 35,
     "metadata": {},
     "output_type": "execute_result"
    }
   ],
   "source": [
    "# 상점 아이디 2096번의 시리즈 객체 \n",
    "store_2096 = time_series(resampling_data, 2096)\n",
    "store_2096"
   ]
  },
  {
   "cell_type": "code",
   "execution_count": 36,
   "id": "06e9f048",
   "metadata": {},
   "outputs": [
    {
     "data": {
      "image/png": "[encoded data removed]",
      "text/plain": [
       "<Figure size 972x360 with 1 Axes>"
      ]
     },
     "metadata": {
      "needs_background": "light"
     },
     "output_type": "display_data"
    }
   ],
   "source": [
    "store_plot_2096 = store_2096.plot()\n",
    "fig = store_plot_2096.get_figure()\n",
    "fig.set_size_inches(13.5,5)"
   ]
  },
  {
   "cell_type": "markdown",
   "id": "201318d0",
   "metadata": {},
   "source": [
    "## 추세가 있는 상점"
   ]
  },
  {
   "cell_type": "code",
   "execution_count": 37,
   "id": "e8f51cad",
   "metadata": {},
   "outputs": [
    {
     "data": {
      "image/png": "[encoded data removed]",
      "text/plain": [
       "<Figure size 972x360 with 1 Axes>"
      ]
     },
     "metadata": {
      "needs_background": "light"
     },
     "output_type": "display_data"
    }
   ],
   "source": [
    "store_335 = time_series(resampling_data, 335)\n",
    "store_plot_335 = store_335.plot()\n",
    "fig = store_plot_335.get_figure()\n",
    "fig.set_size_inches(13.5,5)"
   ]
  },
  {
   "cell_type": "code",
   "execution_count": 38,
   "id": "c4722dd5",
   "metadata": {},
   "outputs": [
    {
     "data": {
      "image/png": "[encoded data removed]",
      "text/plain": [
       "<Figure size 972x360 with 1 Axes>"
      ]
     },
     "metadata": {
      "needs_background": "light"
     },
     "output_type": "display_data"
    }
   ],
   "source": [
    "store_510 = time_series(resampling_data, 510)\n",
    "store_plot_510 = store_510.plot()\n",
    "fig = store_plot_510.get_figure()\n",
    "fig.set_size_inches(13.5,5)"
   ]
  },
  {
   "cell_type": "markdown",
   "id": "b3353f9a",
   "metadata": {},
   "source": [
    "## 휴업 중인 상점"
   ]
  },
  {
   "cell_type": "code",
   "execution_count": 39,
   "id": "b3efffa5",
   "metadata": {},
   "outputs": [
    {
     "data": {
      "image/png": "[encoded data removed]",
      "text/plain": [
       "<Figure size 972x360 with 1 Axes>"
      ]
     },
     "metadata": {
      "needs_background": "light"
     },
     "output_type": "display_data"
    }
   ],
   "source": [
    "store_111 = time_series(resampling_data, 111)\n",
    "store_plot_111 = store_111.plot()\n",
    "fig = store_plot_111.get_figure()\n",
    "fig.set_size_inches(13.5,5)"
   ]
  },
  {
   "cell_type": "code",
   "execution_count": 40,
   "id": "66cafcb1",
   "metadata": {},
   "outputs": [
    {
     "data": {
      "image/png": "[encoded data removed]",
      "text/plain": [
       "<Figure size 972x360 with 1 Axes>"
      ]
     },
     "metadata": {
      "needs_background": "light"
     },
     "output_type": "display_data"
    }
   ],
   "source": [
    "store_279 = time_series(resampling_data, 279)\n",
    "store_plot_279= store_279.plot()\n",
    "fig = store_plot_279.get_figure()\n",
    "fig.set_size_inches(13.5,5)"
   ]
  },
  {
   "cell_type": "markdown",
   "id": "7ab0c814",
   "metadata": {},
   "source": [
    "## 시계열 데이터의 정상성"
   ]
  },
  {
   "cell_type": "markdown",
   "id": "03bcc93f",
   "metadata": {},
   "source": [
    "### ADF-TEST"
   ]
  },
  {
   "cell_type": "code",
   "execution_count": 41,
   "id": "442b56f5",
   "metadata": {},
   "outputs": [
    {
     "data": {
      "image/png": "[encoded data removed]",
      "text/plain": [
       "<Figure size 972x360 with 1 Axes>"
      ]
     },
     "metadata": {
      "needs_background": "light"
     },
     "output_type": "display_data"
    }
   ],
   "source": [
    "store_0 = time_series(resampling_data, 0)\n",
    "store_plot_0= store_0.plot()\n",
    "fig = store_plot_0.get_figure()\n",
    "fig.set_size_inches(13.5,5)"
   ]
  },
  {
   "cell_type": "code",
   "execution_count": 42,
   "id": "338499e2",
   "metadata": {},
   "outputs": [
    {
     "data": {
      "image/png": "[encoded data removed]",
      "text/plain": [
       "<Figure size 972x360 with 1 Axes>"
      ]
     },
     "metadata": {
      "needs_background": "light"
     },
     "output_type": "display_data"
    }
   ],
   "source": [
    "#시계열 그래프 그리기\n",
    "store_plot_257 = store_257.plot()\n",
    "fig = store_plot_257.get_figure()\n",
    "fig.set_size_inches(13.5,5)"
   ]
  },
  {
   "cell_type": "code",
   "execution_count": 49,
   "id": "7da1d201",
   "metadata": {},
   "outputs": [
    {
     "name": "stdout",
     "output_type": "stream",
     "text": [
      "p_val: 0.022488, should_diff: False\n"
     ]
    }
   ],
   "source": [
    "#pmdarima 패키지에 있는 ADFtest 클래스를 임포트\n",
    "from pmdarima.arima import ADFTest\n",
    "\n",
    "#상점 아이디가 0번인 데이터를 시리즈 객체로 변환 \n",
    "store_0 = time_series(resampling_data, 0)\n",
    "#ADF test 시행\n",
    "p_val, should_diff = ADFTest().should_diff(store_0)\n",
    "print('p_val: %f, should_diff: %s' %(p_val, should_diff))"
   ]
  },
  {
   "cell_type": "code",
   "execution_count": 48,
   "id": "7cced67f",
   "metadata": {},
   "outputs": [
    {
     "name": "stdout",
     "output_type": "stream",
     "text": [
      "p_val: 0.093614, should_diff: True\n"
     ]
    }
   ],
   "source": [
    "#pmdarima 패키지에 있는 ADFtest 클래스를 임포트\n",
    "from pmdarima.arima import ADFTest\n",
    "\n",
    "#상점 아이디가 0번인 데이터를 시리즈 객체로 변환 \n",
    "store_257 = time_series(resampling_data, 257)\n",
    "#ADF test 시행\n",
    "p_val, should_diff = ADFTest().should_diff(store_257)\n",
    "print('p_val: %f, should_diff: %s' %(p_val, should_diff))"
   ]
  },
  {
   "cell_type": "code",
   "execution_count": 56,
   "id": "64a85395",
   "metadata": {},
   "outputs": [
    {
     "name": "stderr",
     "output_type": "stream",
     "text": [
      "100%|█████████████████████████████████████████████████████████████████████████████| 1967/1967 [00:12<00:00, 160.16it/s]\n"
     ]
    },
    {
     "data": {
      "text/plain": [
       "<AxesSubplot:>"
      ]
     },
     "execution_count": 56,
     "metadata": {},
     "output_type": "execute_result"
    },
    {
     "data": {
      "image/png": "[encoded data removed]",
      "text/plain": [
       "<Figure size 576x288 with 1 Axes>"
      ]
     },
     "metadata": {
      "needs_background": "light"
     },
     "output_type": "display_data"
    }
   ],
   "source": [
    "## ARIMA 모델의 차분 여부를 결정하기 위한 단위근 검정\n",
    "def adf_test(y):\n",
    "    return ADFTest().should_diff(y)[0]\n",
    "\n",
    "adf_p = []\n",
    "count = 0\n",
    "skipped = []\n",
    "\n",
    "for i in tqdm(resampling_data['store_id'].unique()):\n",
    "    ts = time_series(resampling_data,i)\n",
    "    try:\n",
    "        p_val = adf_test(ts)\n",
    "        if p_val < 0.05:\n",
    "            count += 1\n",
    "        adf_p.append(p_val)\n",
    "    except:\n",
    "        skipped.append(i)\n",
    "\n",
    "plt.figure(figsize=(8, 4))\n",
    "sns.boxplot(adf_p)"
   ]
  },
  {
   "cell_type": "code",
   "execution_count": 57,
   "id": "2cdd6e34",
   "metadata": {},
   "outputs": [
    {
     "name": "stdout",
     "output_type": "stream",
     "text": [
      "259\n"
     ]
    }
   ],
   "source": [
    "#p-value가 0.05보다 작은 상점의 개수\n",
    "print(count)"
   ]
  },
  {
   "cell_type": "code",
   "execution_count": 58,
   "id": "b89eb543",
   "metadata": {},
   "outputs": [],
   "source": [
    "# ADF-Test 오류 상점 개수\n",
    "if skipped:\n",
    "    print(f\"WarningCount: {len(skipped)}, store_id_list:{skipped}\")"
   ]
  },
  {
   "cell_type": "markdown",
   "id": "b3915458",
   "metadata": {},
   "source": [
    "# 모델 구축과 검증"
   ]
  },
  {
   "cell_type": "markdown",
   "id": "62cd7bf8",
   "metadata": {},
   "source": [
    "### 파이썬에서 R 시계열 패키지 forecast를 통한 모델링"
   ]
  },
  {
   "cell_type": "code",
   "execution_count": 69,
   "id": "b699ae33",
   "metadata": {},
   "outputs": [
    {
     "name": "stderr",
     "output_type": "stream",
     "text": [
      "R[write to console]: Warning:\n",
      "From cffi callback <function _consolewrite_ex at 0x0000017E05E0AF70>:\n",
      "Traceback (most recent call last):\n",
      "  File \"C:\\Users\\sh921\\anaconda3\\lib\\site-packages\\rpy2\\rinterface_lib\\callbacks.py\", line 132, in _consolewrite_ex\n",
      "    s = conversion._cchar_to_str_with_maxlen(buf, n, _CCHAR_ENCODING)\n",
      "  File \"C:\\Users\\sh921\\anaconda3\\lib\\site-packages\\rpy2\\rinterface_lib\\conversion.py\", line 133, in _cchar_to_str_with_maxlen\n",
      "    s = ffi.string(c, maxlen).decode(encoding)\n",
      "UnicodeDecodeError: 'utf-8' codec can't decode byte 0xc6 in position 1: invalid continuation byte\n",
      "From cffi callback <function _consolewrite_ex at 0x0000017E05E0AF70>:\n",
      "Traceback (most recent call last):\n",
      "  File \"C:\\Users\\sh921\\anaconda3\\lib\\site-packages\\rpy2\\rinterface_lib\\callbacks.py\", line 132, in _consolewrite_ex\n",
      "    s = conversion._cchar_to_str_with_maxlen(buf, n, _CCHAR_ENCODING)\n",
      "  File \"C:\\Users\\sh921\\anaconda3\\lib\\site-packages\\rpy2\\rinterface_lib\\conversion.py\", line 133, in _cchar_to_str_with_maxlen\n",
      "    s = ffi.string(c, maxlen).decode(encoding)\n",
      "UnicodeDecodeError: 'utf-8' codec can't decode byte 0xc0 in position 44: invalid start byte\n",
      "From cffi callback <function _consolewrite_ex at 0x0000017E05E0AF70>:\n",
      "Traceback (most recent call last):\n",
      "  File \"C:\\Users\\sh921\\anaconda3\\lib\\site-packages\\rpy2\\rinterface_lib\\callbacks.py\", line 132, in _consolewrite_ex\n",
      "    s = conversion._cchar_to_str_with_maxlen(buf, n, _CCHAR_ENCODING)\n",
      "  File \"C:\\Users\\sh921\\anaconda3\\lib\\site-packages\\rpy2\\rinterface_lib\\conversion.py\", line 133, in _cchar_to_str_with_maxlen\n",
      "    s = ffi.string(c, maxlen).decode(encoding)\n",
      "UnicodeDecodeError: 'utf-8' codec can't decode byte 0xb5 in position 53: invalid start byte\n",
      "R[write to console]: trying URL 'https://cloud.r-project.org/bin/windows/contrib/4.1/hts_6.0.2.zip'\n",
      "\n",
      "R[write to console]: Content type 'application/zip'\n",
      "R[write to console]:  length 1660490 bytes (1.6 MB)\n",
      "\n",
      "R[write to console]: downloaded 1.6 MB\n",
      "\n",
      "\n",
      "R[write to console]: trying URL 'https://cloud.r-project.org/bin/windows/contrib/4.1/iterators_1.0.13.zip'\n",
      "\n",
      "R[write to console]: Content type 'application/zip'\n",
      "R[write to console]:  length 343276 bytes (335 KB)\n",
      "\n",
      "R[write to console]: downloaded 335 KB\n",
      "\n",
      "\n",
      "R[write to console]: trying URL 'https://cloud.r-project.org/bin/windows/contrib/4.1/thief_0.3.zip'\n",
      "\n",
      "R[write to console]: Content type 'application/zip'\n",
      "R[write to console]:  length 69035 bytes (67 KB)\n",
      "\n",
      "R[write to console]: downloaded 67 KB\n",
      "\n",
      "\n",
      "R[write to console]: trying URL 'https://cloud.r-project.org/bin/windows/contrib/4.1/doParallel_1.0.16.zip'\n",
      "\n",
      "R[write to console]: Content type 'application/zip'\n",
      "R[write to console]:  length 64386 bytes (62 KB)\n",
      "\n",
      "R[write to console]: downloaded 62 KB\n",
      "\n",
      "\n",
      "R[write to console]: trying URL 'https://cloud.r-project.org/bin/windows/contrib/4.1/foreach_1.5.1.zip'\n",
      "\n",
      "R[write to console]: Content type 'application/zip'\n",
      "R[write to console]:  length 146149 bytes (142 KB)\n",
      "\n",
      "R[write to console]: downloaded 142 KB\n",
      "\n",
      "\n",
      "R[write to console]: trying URL 'https://cloud.r-project.org/bin/windows/contrib/4.1/forecastHybrid_5.0.19.zip'\n",
      "\n",
      "R[write to console]: Content type 'application/zip'\n",
      "R[write to console]:  length 680502 bytes (664 KB)\n",
      "\n",
      "R[write to console]: downloaded 664 KB\n",
      "\n",
      "\n"
     ]
    },
    {
     "name": "stdout",
     "output_type": "stream",
     "text": [
      "package 'hts' successfully unpacked and MD5 sums checked\n",
      "package 'iterators' successfully unpacked and MD5 sums checked\n",
      "package 'thief' successfully unpacked and MD5 sums checked\n",
      "package 'doParallel' successfully unpacked and MD5 sums checked\n",
      "package 'foreach' successfully unpacked and MD5 sums checked\n",
      "package 'forecastHybrid' successfully unpacked and MD5 sums checked\n",
      "\n",
      "The downloaded binary packages are in\n",
      "\tC:\\Users\\sh921\\AppData\\Local\\Temp\\RtmpAnqUUw\\downloaded_packages\n"
     ]
    },
    {
     "data": {
      "text/plain": [
       "<rpy2.rinterface_lib.sexp.NULLType object at 0x0000017E060E0780> [RTYPES.NILSXP]"
      ]
     },
     "execution_count": 69,
     "metadata": {},
     "output_type": "execute_result"
    }
   ],
   "source": [
    "from rpy2.robjects.packages import importr # rpy2 내의 패키지를 불러올 importr 클래스\n",
    "\n",
    "utils = importr('utils') # utils 패키지를 임포트\n",
    "utils.install_packages('forecast') # r의 forecast 패키지 설치.\n",
    "utils.install_packages('forecastHybrid') # r의 forecastHybrid 패키지 설치"
   ]
  },
  {
   "cell_type": "code",
   "execution_count": 70,
   "id": "da5cce44",
   "metadata": {},
   "outputs": [
    {
     "ename": "AttributeError",
     "evalue": "module 'rpy2.robjects.pandas2ri' has no attribute 'ri2py'",
     "output_type": "error",
     "traceback": [
      "\u001b[1;31m---------------------------------------------------------------------------\u001b[0m",
      "\u001b[1;31mAttributeError\u001b[0m                            Traceback (most recent call last)",
      "\u001b[1;32m<ipython-input-70-57490d26af7c>\u001b[0m in \u001b[0;36m<module>\u001b[1;34m\u001b[0m\n\u001b[0;32m     30\u001b[0m \u001b[1;31m#ensemble model\u001b[0m\u001b[1;33m\u001b[0m\u001b[1;33m\u001b[0m\u001b[1;33m\u001b[0m\u001b[0m\n\u001b[0;32m     31\u001b[0m \u001b[0mforecast\u001b[0m \u001b[1;33m=\u001b[0m \u001b[0mauto_arima\u001b[0m\u001b[1;33m(\u001b[0m\u001b[0mtrain\u001b[0m\u001b[1;33m)\u001b[0m\u001b[1;33m\u001b[0m\u001b[1;33m\u001b[0m\u001b[0m\n\u001b[1;32m---> 32\u001b[1;33m \u001b[0mnp\u001b[0m\u001b[1;33m.\u001b[0m\u001b[0msum\u001b[0m\u001b[1;33m(\u001b[0m\u001b[0mpandas2ri\u001b[0m\u001b[1;33m.\u001b[0m\u001b[0mri2py\u001b[0m\u001b[1;33m(\u001b[0m\u001b[0mforecast\u001b[0m\u001b[1;33m)\u001b[0m\u001b[1;33m.\u001b[0m\u001b[0mvalues\u001b[0m\u001b[1;33m)\u001b[0m \u001b[1;31m# 3개월 매출을 합산\u001b[0m\u001b[1;33m\u001b[0m\u001b[1;33m\u001b[0m\u001b[0m\n\u001b[0m",
      "\u001b[1;31mAttributeError\u001b[0m: module 'rpy2.robjects.pandas2ri' has no attribute 'ri2py'"
     ]
    }
   ],
   "source": [
    "import rpy2.robjects as robjects # r 함수를 파이썬에서 사용 가능하게 변환하는 모듈\n",
    "from rpy2.robjects import pandas2ri # 파이썬 자료형과 R 자료형의 호환을 도와주는 모듈\n",
    "\n",
    "# pandas2ri를 활성화 \n",
    "pandas2ri.activate()\n",
    "\n",
    "auto_arima = \"\"\"\n",
    "    function(ts){\n",
    "        library(forecast) # forecast 패키지 로드\n",
    "        d_params = ndiffs(ts) # 시계열 자료의 차분 횟수 계산\n",
    "        model = auto.arima(ts, max.p=2, d=d_params) # auto.arima 모델 생성\n",
    "        forecasted_data = forecast(model, h=3) # 이후 3개월(h=3)을 예측\n",
    "        out_df = data.frame(forecasted_data$mean) # 예측값을 R의 데이터프레임으로 변환\n",
    "        colnames(out_df) = c('amount') # amount라는 열로 이름을 지정\n",
    "        out_df\n",
    "    }\n",
    "\"\"\"\n",
    "# r() 함수로 r 자료형을 파이썬에서 사용 가능\n",
    "auto_arima = robjects.r(auto_arima)\n",
    "ts = robjects.r('ts')# r 자료형 time series 자료형으로 만들어주는 함수\n",
    "c = robjects.r('c') # r 자료형 벡터를 만들어주는 함수\n",
    "\n",
    "store_0 = resampling_data[resampling_data['store_id']==0]\n",
    "start_year = int(min(store_0['year_month'])[:4]) # 영업 시작 년도\n",
    "start_month = int(min(store_0['year_month'])[5:]) # 영업 시작 월\n",
    "    \n",
    "# R의 ts 함수로 r의 time series 자료형으로 변환\n",
    "train = ts(store_0['amount'], start=c(start_year, start_month), frequency=12) \n",
    "\n",
    "#ensemble model\n",
    "forecast = auto_arima(train)\n",
    "np.sum(pandas2ri.ri2py(forecast).values) # 3개월 매출을 합산"
   ]
  },
  {
   "cell_type": "code",
   "execution_count": null,
   "id": "a653ca5a",
   "metadata": {},
   "outputs": [],
   "source": []
  }
 ],
 "metadata": {
  "kernelspec": {
   "display_name": "Python 3",
   "language": "python",
   "name": "python3"
  },
  "language_info": {
   "codemirror_mode": {
    "name": "ipython",
    "version": 3
   },
   "file_extension": ".py",
   "mimetype": "text/x-python",
   "name": "python",
   "nbconvert_exporter": "python",
   "pygments_lexer": "ipython3",
   "version": "3.8.8"
  }
 },
 "nbformat": 4,
 "nbformat_minor": 5
}
